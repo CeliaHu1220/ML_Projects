{
  "nbformat": 4,
  "nbformat_minor": 0,
  "metadata": {
    "colab": {
      "provenance": [],
      "collapsed_sections": []
    },
    "kernelspec": {
      "name": "python3",
      "display_name": "Python 3"
    },
    "language_info": {
      "name": "python"
    }
  },
  "cells": [
    {
      "cell_type": "code",
      "source": [
        "#%%capture\n",
        "import pandas as pd\n",
        "import numpy as np\n",
        "from datetime import datetime\n",
        "import matplotlib.pyplot as plt\n",
        "import seaborn as sns\n",
        "from sklearn import preprocessing\n",
        "from sklearn.preprocessing import LabelEncoder\n",
        "from sklearn.model_selection import GridSearchCV\n",
        "from sklearn.ensemble import RandomForestRegressor"
      ],
      "metadata": {
        "id": "HOQjbHvbw0y-"
      },
      "execution_count": null,
      "outputs": []
    },
    {
      "cell_type": "markdown",
      "source": [
        "### **Dataset Schema：**\n",
        "id: Identification number for the flight\n",
        "\n",
        "dep_stn: Departure airport\n",
        "\n",
        "arr_stn: Arrival airport\n",
        "\n",
        "ac_code: Aircraft code\n",
        "\n",
        "dep_date:S Scheduled departure datetime\n",
        "\n",
        "arr_date: Scheduled arrival datatime\n",
        "\n",
        "weather: Observed weather conditions at departure\n",
        "\n",
        "hobbs_meter: The time in hours that an aircraft has been in use\n",
        "\n",
        "year_man: Year of manufacturing for the aircraft\n",
        "\n",
        "dep_country: Departure country\n",
        "\n",
        "arr_country: Destination country\n",
        "\n",
        "delay: Number of minutes this flight was delayed\n"
      ],
      "metadata": {
        "id": "BYHCXrzfu8bD"
      }
    },
    {
      "cell_type": "code",
      "source": [
        "# import the dataset\n",
        "train_df = pd.read_csv('train.csv')\n",
        "\n",
        "# view the dataset's shape\n",
        "train_df.shape"
      ],
      "metadata": {
        "colab": {
          "base_uri": "https://localhost:8080/"
        },
        "id": "QuNep2LZvqNK",
        "outputId": "efc37af0-79b4-4f14-d182-3953762eedd6"
      },
      "execution_count": null,
      "outputs": [
        {
          "output_type": "execute_result",
          "data": {
            "text/plain": [
              "(20, 8)"
            ]
          },
          "metadata": {},
          "execution_count": 5
        }
      ]
    },
    {
      "cell_type": "code",
      "source": [
        "# examine the column types\n",
        "train_df.info()"
      ],
      "metadata": {
        "colab": {
          "base_uri": "https://localhost:8080/"
        },
        "id": "QWPVekMh2o_z",
        "outputId": "030e5b54-66e6-4b87-9322-814faceae10f"
      },
      "execution_count": null,
      "outputs": [
        {
          "output_type": "stream",
          "name": "stdout",
          "text": [
            "<class 'pandas.core.frame.DataFrame'>\n",
            "RangeIndex: 20 entries, 0 to 19\n",
            "Data columns (total 8 columns):\n",
            " #   Column       Non-Null Count  Dtype \n",
            "---  ------       --------------  ----- \n",
            " 0   id           20 non-null     int64 \n",
            " 1   dep_stn      20 non-null     object\n",
            " 2   arr_stn      20 non-null     object\n",
            " 3   ac_code      20 non-null     int64 \n",
            " 4   weather      20 non-null     object\n",
            " 5   hobbs_meter  20 non-null     int64 \n",
            " 6   year_man     20 non-null     int64 \n",
            " 7   delay        20 non-null     int64 \n",
            "dtypes: int64(5), object(3)\n",
            "memory usage: 1.4+ KB\n"
          ]
        }
      ]
    },
    {
      "cell_type": "code",
      "source": [
        "# check for nulls in each column\n",
        "train_df.isnull().sum()"
      ],
      "metadata": {
        "colab": {
          "base_uri": "https://localhost:8080/"
        },
        "id": "vIRO8fGj2tN2",
        "outputId": "112b691c-5bba-4d4b-ebe5-50acb844b78a"
      },
      "execution_count": null,
      "outputs": [
        {
          "output_type": "execute_result",
          "data": {
            "text/plain": [
              "id             0\n",
              "dep_stn        0\n",
              "arr_stn        0\n",
              "ac_code        0\n",
              "weather        0\n",
              "hobbs_meter    0\n",
              "year_man       0\n",
              "delay          0\n",
              "dtype: int64"
            ]
          },
          "metadata": {},
          "execution_count": 7
        }
      ]
    },
    {
      "cell_type": "code",
      "source": [
        "# view the statistics of continuous variables\n",
        "train_df.describe()"
      ],
      "metadata": {
        "colab": {
          "base_uri": "https://localhost:8080/",
          "height": 300
        },
        "id": "FK1pNH-X2rKm",
        "outputId": "38cebb5a-4340-4c17-d6f8-2ed34aee83c1"
      },
      "execution_count": null,
      "outputs": [
        {
          "output_type": "execute_result",
          "data": {
            "text/plain": [
              "             id     ac_code  hobbs_meter   year_man       delay\n",
              "count  20.00000   20.000000    20.000000  20.000000   20.000000\n",
              "mean   10.50000  754.000000   539.750000   3.550000   43.500000\n",
              "std     5.91608   17.800059   165.613969   0.825578   28.049768\n",
              "min     1.00000  737.000000   241.000000   2.000000    5.000000\n",
              "25%     5.75000  737.000000   422.000000   3.000000   21.500000\n",
              "50%    10.50000  747.000000   523.500000   4.000000   39.000000\n",
              "75%    15.25000  777.000000   636.000000   4.000000   58.750000\n",
              "max    20.00000  777.000000   890.000000   5.000000  119.000000"
            ],
            "text/html": [
              "\n",
              "  <div id=\"df-785f8f77-d8e6-444d-b07a-6d61bbc2393c\">\n",
              "    <div class=\"colab-df-container\">\n",
              "      <div>\n",
              "<style scoped>\n",
              "    .dataframe tbody tr th:only-of-type {\n",
              "        vertical-align: middle;\n",
              "    }\n",
              "\n",
              "    .dataframe tbody tr th {\n",
              "        vertical-align: top;\n",
              "    }\n",
              "\n",
              "    .dataframe thead th {\n",
              "        text-align: right;\n",
              "    }\n",
              "</style>\n",
              "<table border=\"1\" class=\"dataframe\">\n",
              "  <thead>\n",
              "    <tr style=\"text-align: right;\">\n",
              "      <th></th>\n",
              "      <th>id</th>\n",
              "      <th>ac_code</th>\n",
              "      <th>hobbs_meter</th>\n",
              "      <th>year_man</th>\n",
              "      <th>delay</th>\n",
              "    </tr>\n",
              "  </thead>\n",
              "  <tbody>\n",
              "    <tr>\n",
              "      <th>count</th>\n",
              "      <td>20.00000</td>\n",
              "      <td>20.000000</td>\n",
              "      <td>20.000000</td>\n",
              "      <td>20.000000</td>\n",
              "      <td>20.000000</td>\n",
              "    </tr>\n",
              "    <tr>\n",
              "      <th>mean</th>\n",
              "      <td>10.50000</td>\n",
              "      <td>754.000000</td>\n",
              "      <td>539.750000</td>\n",
              "      <td>3.550000</td>\n",
              "      <td>43.500000</td>\n",
              "    </tr>\n",
              "    <tr>\n",
              "      <th>std</th>\n",
              "      <td>5.91608</td>\n",
              "      <td>17.800059</td>\n",
              "      <td>165.613969</td>\n",
              "      <td>0.825578</td>\n",
              "      <td>28.049768</td>\n",
              "    </tr>\n",
              "    <tr>\n",
              "      <th>min</th>\n",
              "      <td>1.00000</td>\n",
              "      <td>737.000000</td>\n",
              "      <td>241.000000</td>\n",
              "      <td>2.000000</td>\n",
              "      <td>5.000000</td>\n",
              "    </tr>\n",
              "    <tr>\n",
              "      <th>25%</th>\n",
              "      <td>5.75000</td>\n",
              "      <td>737.000000</td>\n",
              "      <td>422.000000</td>\n",
              "      <td>3.000000</td>\n",
              "      <td>21.500000</td>\n",
              "    </tr>\n",
              "    <tr>\n",
              "      <th>50%</th>\n",
              "      <td>10.50000</td>\n",
              "      <td>747.000000</td>\n",
              "      <td>523.500000</td>\n",
              "      <td>4.000000</td>\n",
              "      <td>39.000000</td>\n",
              "    </tr>\n",
              "    <tr>\n",
              "      <th>75%</th>\n",
              "      <td>15.25000</td>\n",
              "      <td>777.000000</td>\n",
              "      <td>636.000000</td>\n",
              "      <td>4.000000</td>\n",
              "      <td>58.750000</td>\n",
              "    </tr>\n",
              "    <tr>\n",
              "      <th>max</th>\n",
              "      <td>20.00000</td>\n",
              "      <td>777.000000</td>\n",
              "      <td>890.000000</td>\n",
              "      <td>5.000000</td>\n",
              "      <td>119.000000</td>\n",
              "    </tr>\n",
              "  </tbody>\n",
              "</table>\n",
              "</div>\n",
              "      <button class=\"colab-df-convert\" onclick=\"convertToInteractive('df-785f8f77-d8e6-444d-b07a-6d61bbc2393c')\"\n",
              "              title=\"Convert this dataframe to an interactive table.\"\n",
              "              style=\"display:none;\">\n",
              "        \n",
              "  <svg xmlns=\"http://www.w3.org/2000/svg\" height=\"24px\"viewBox=\"0 0 24 24\"\n",
              "       width=\"24px\">\n",
              "    <path d=\"M0 0h24v24H0V0z\" fill=\"none\"/>\n",
              "    <path d=\"M18.56 5.44l.94 2.06.94-2.06 2.06-.94-2.06-.94-.94-2.06-.94 2.06-2.06.94zm-11 1L8.5 8.5l.94-2.06 2.06-.94-2.06-.94L8.5 2.5l-.94 2.06-2.06.94zm10 10l.94 2.06.94-2.06 2.06-.94-2.06-.94-.94-2.06-.94 2.06-2.06.94z\"/><path d=\"M17.41 7.96l-1.37-1.37c-.4-.4-.92-.59-1.43-.59-.52 0-1.04.2-1.43.59L10.3 9.45l-7.72 7.72c-.78.78-.78 2.05 0 2.83L4 21.41c.39.39.9.59 1.41.59.51 0 1.02-.2 1.41-.59l7.78-7.78 2.81-2.81c.8-.78.8-2.07 0-2.86zM5.41 20L4 18.59l7.72-7.72 1.47 1.35L5.41 20z\"/>\n",
              "  </svg>\n",
              "      </button>\n",
              "      \n",
              "  <style>\n",
              "    .colab-df-container {\n",
              "      display:flex;\n",
              "      flex-wrap:wrap;\n",
              "      gap: 12px;\n",
              "    }\n",
              "\n",
              "    .colab-df-convert {\n",
              "      background-color: #E8F0FE;\n",
              "      border: none;\n",
              "      border-radius: 50%;\n",
              "      cursor: pointer;\n",
              "      display: none;\n",
              "      fill: #1967D2;\n",
              "      height: 32px;\n",
              "      padding: 0 0 0 0;\n",
              "      width: 32px;\n",
              "    }\n",
              "\n",
              "    .colab-df-convert:hover {\n",
              "      background-color: #E2EBFA;\n",
              "      box-shadow: 0px 1px 2px rgba(60, 64, 67, 0.3), 0px 1px 3px 1px rgba(60, 64, 67, 0.15);\n",
              "      fill: #174EA6;\n",
              "    }\n",
              "\n",
              "    [theme=dark] .colab-df-convert {\n",
              "      background-color: #3B4455;\n",
              "      fill: #D2E3FC;\n",
              "    }\n",
              "\n",
              "    [theme=dark] .colab-df-convert:hover {\n",
              "      background-color: #434B5C;\n",
              "      box-shadow: 0px 1px 3px 1px rgba(0, 0, 0, 0.15);\n",
              "      filter: drop-shadow(0px 1px 2px rgba(0, 0, 0, 0.3));\n",
              "      fill: #FFFFFF;\n",
              "    }\n",
              "  </style>\n",
              "\n",
              "      <script>\n",
              "        const buttonEl =\n",
              "          document.querySelector('#df-785f8f77-d8e6-444d-b07a-6d61bbc2393c button.colab-df-convert');\n",
              "        buttonEl.style.display =\n",
              "          google.colab.kernel.accessAllowed ? 'block' : 'none';\n",
              "\n",
              "        async function convertToInteractive(key) {\n",
              "          const element = document.querySelector('#df-785f8f77-d8e6-444d-b07a-6d61bbc2393c');\n",
              "          const dataTable =\n",
              "            await google.colab.kernel.invokeFunction('convertToInteractive',\n",
              "                                                     [key], {});\n",
              "          if (!dataTable) return;\n",
              "\n",
              "          const docLinkHtml = 'Like what you see? Visit the ' +\n",
              "            '<a target=\"_blank\" href=https://colab.research.google.com/notebooks/data_table.ipynb>data table notebook</a>'\n",
              "            + ' to learn more about interactive tables.';\n",
              "          element.innerHTML = '';\n",
              "          dataTable['output_type'] = 'display_data';\n",
              "          await google.colab.output.renderOutput(dataTable, element);\n",
              "          const docLink = document.createElement('div');\n",
              "          docLink.innerHTML = docLinkHtml;\n",
              "          element.appendChild(docLink);\n",
              "        }\n",
              "      </script>\n",
              "    </div>\n",
              "  </div>\n",
              "  "
            ]
          },
          "metadata": {},
          "execution_count": 8
        }
      ]
    },
    {
      "cell_type": "code",
      "source": [
        "train_df.head(3)"
      ],
      "metadata": {
        "colab": {
          "base_uri": "https://localhost:8080/",
          "height": 143
        },
        "id": "I93uZFDa1O5a",
        "outputId": "7ff09a6f-416a-4d99-d7d7-5909b29891aa"
      },
      "execution_count": null,
      "outputs": [
        {
          "output_type": "execute_result",
          "data": {
            "text/plain": [
              "   id dep_stn arr_stn  ac_code weather  hobbs_meter  year_man  delay\n",
              "0   1     CDC  Sydney      747    Rain          614         3     31\n",
              "1   2      NJ      NY      777   Sunny          382         5     22\n",
              "2   3      BJ   Seoul      777  Cloudy          512         2     61"
            ],
            "text/html": [
              "\n",
              "  <div id=\"df-39b12ef8-9e19-4347-bd61-a52570a6ea16\">\n",
              "    <div class=\"colab-df-container\">\n",
              "      <div>\n",
              "<style scoped>\n",
              "    .dataframe tbody tr th:only-of-type {\n",
              "        vertical-align: middle;\n",
              "    }\n",
              "\n",
              "    .dataframe tbody tr th {\n",
              "        vertical-align: top;\n",
              "    }\n",
              "\n",
              "    .dataframe thead th {\n",
              "        text-align: right;\n",
              "    }\n",
              "</style>\n",
              "<table border=\"1\" class=\"dataframe\">\n",
              "  <thead>\n",
              "    <tr style=\"text-align: right;\">\n",
              "      <th></th>\n",
              "      <th>id</th>\n",
              "      <th>dep_stn</th>\n",
              "      <th>arr_stn</th>\n",
              "      <th>ac_code</th>\n",
              "      <th>weather</th>\n",
              "      <th>hobbs_meter</th>\n",
              "      <th>year_man</th>\n",
              "      <th>delay</th>\n",
              "    </tr>\n",
              "  </thead>\n",
              "  <tbody>\n",
              "    <tr>\n",
              "      <th>0</th>\n",
              "      <td>1</td>\n",
              "      <td>CDC</td>\n",
              "      <td>Sydney</td>\n",
              "      <td>747</td>\n",
              "      <td>Rain</td>\n",
              "      <td>614</td>\n",
              "      <td>3</td>\n",
              "      <td>31</td>\n",
              "    </tr>\n",
              "    <tr>\n",
              "      <th>1</th>\n",
              "      <td>2</td>\n",
              "      <td>NJ</td>\n",
              "      <td>NY</td>\n",
              "      <td>777</td>\n",
              "      <td>Sunny</td>\n",
              "      <td>382</td>\n",
              "      <td>5</td>\n",
              "      <td>22</td>\n",
              "    </tr>\n",
              "    <tr>\n",
              "      <th>2</th>\n",
              "      <td>3</td>\n",
              "      <td>BJ</td>\n",
              "      <td>Seoul</td>\n",
              "      <td>777</td>\n",
              "      <td>Cloudy</td>\n",
              "      <td>512</td>\n",
              "      <td>2</td>\n",
              "      <td>61</td>\n",
              "    </tr>\n",
              "  </tbody>\n",
              "</table>\n",
              "</div>\n",
              "      <button class=\"colab-df-convert\" onclick=\"convertToInteractive('df-39b12ef8-9e19-4347-bd61-a52570a6ea16')\"\n",
              "              title=\"Convert this dataframe to an interactive table.\"\n",
              "              style=\"display:none;\">\n",
              "        \n",
              "  <svg xmlns=\"http://www.w3.org/2000/svg\" height=\"24px\"viewBox=\"0 0 24 24\"\n",
              "       width=\"24px\">\n",
              "    <path d=\"M0 0h24v24H0V0z\" fill=\"none\"/>\n",
              "    <path d=\"M18.56 5.44l.94 2.06.94-2.06 2.06-.94-2.06-.94-.94-2.06-.94 2.06-2.06.94zm-11 1L8.5 8.5l.94-2.06 2.06-.94-2.06-.94L8.5 2.5l-.94 2.06-2.06.94zm10 10l.94 2.06.94-2.06 2.06-.94-2.06-.94-.94-2.06-.94 2.06-2.06.94z\"/><path d=\"M17.41 7.96l-1.37-1.37c-.4-.4-.92-.59-1.43-.59-.52 0-1.04.2-1.43.59L10.3 9.45l-7.72 7.72c-.78.78-.78 2.05 0 2.83L4 21.41c.39.39.9.59 1.41.59.51 0 1.02-.2 1.41-.59l7.78-7.78 2.81-2.81c.8-.78.8-2.07 0-2.86zM5.41 20L4 18.59l7.72-7.72 1.47 1.35L5.41 20z\"/>\n",
              "  </svg>\n",
              "      </button>\n",
              "      \n",
              "  <style>\n",
              "    .colab-df-container {\n",
              "      display:flex;\n",
              "      flex-wrap:wrap;\n",
              "      gap: 12px;\n",
              "    }\n",
              "\n",
              "    .colab-df-convert {\n",
              "      background-color: #E8F0FE;\n",
              "      border: none;\n",
              "      border-radius: 50%;\n",
              "      cursor: pointer;\n",
              "      display: none;\n",
              "      fill: #1967D2;\n",
              "      height: 32px;\n",
              "      padding: 0 0 0 0;\n",
              "      width: 32px;\n",
              "    }\n",
              "\n",
              "    .colab-df-convert:hover {\n",
              "      background-color: #E2EBFA;\n",
              "      box-shadow: 0px 1px 2px rgba(60, 64, 67, 0.3), 0px 1px 3px 1px rgba(60, 64, 67, 0.15);\n",
              "      fill: #174EA6;\n",
              "    }\n",
              "\n",
              "    [theme=dark] .colab-df-convert {\n",
              "      background-color: #3B4455;\n",
              "      fill: #D2E3FC;\n",
              "    }\n",
              "\n",
              "    [theme=dark] .colab-df-convert:hover {\n",
              "      background-color: #434B5C;\n",
              "      box-shadow: 0px 1px 3px 1px rgba(0, 0, 0, 0.15);\n",
              "      filter: drop-shadow(0px 1px 2px rgba(0, 0, 0, 0.3));\n",
              "      fill: #FFFFFF;\n",
              "    }\n",
              "  </style>\n",
              "\n",
              "      <script>\n",
              "        const buttonEl =\n",
              "          document.querySelector('#df-39b12ef8-9e19-4347-bd61-a52570a6ea16 button.colab-df-convert');\n",
              "        buttonEl.style.display =\n",
              "          google.colab.kernel.accessAllowed ? 'block' : 'none';\n",
              "\n",
              "        async function convertToInteractive(key) {\n",
              "          const element = document.querySelector('#df-39b12ef8-9e19-4347-bd61-a52570a6ea16');\n",
              "          const dataTable =\n",
              "            await google.colab.kernel.invokeFunction('convertToInteractive',\n",
              "                                                     [key], {});\n",
              "          if (!dataTable) return;\n",
              "\n",
              "          const docLinkHtml = 'Like what you see? Visit the ' +\n",
              "            '<a target=\"_blank\" href=https://colab.research.google.com/notebooks/data_table.ipynb>data table notebook</a>'\n",
              "            + ' to learn more about interactive tables.';\n",
              "          element.innerHTML = '';\n",
              "          dataTable['output_type'] = 'display_data';\n",
              "          await google.colab.output.renderOutput(dataTable, element);\n",
              "          const docLink = document.createElement('div');\n",
              "          docLink.innerHTML = docLinkHtml;\n",
              "          element.appendChild(docLink);\n",
              "        }\n",
              "      </script>\n",
              "    </div>\n",
              "  </div>\n",
              "  "
            ]
          },
          "metadata": {},
          "execution_count": 9
        }
      ]
    },
    {
      "cell_type": "code",
      "execution_count": null,
      "metadata": {
        "id": "ylVloi3MH_D4",
        "colab": {
          "base_uri": "https://localhost:8080/",
          "height": 355
        },
        "outputId": "0a257720-ec13-4f6d-9c76-c4d14fb56e44"
      },
      "outputs": [
        {
          "output_type": "display_data",
          "data": {
            "text/plain": [
              "<Figure size 360x360 with 1 Axes>"
            ],
            "image/png": "[encoded data removed]"
          },
          "metadata": {
            "needs_background": "light"
          }
        }
      ],
      "source": [
        "# Visualize the Distribution of delay\n",
        "train_df['delay'].hist(figsize=(5,5))\n",
        "plt.title('Distribution of Flights Delayed Time', size=15)\n",
        "plt.xlabel('Delay in Minutes',size=13)\n",
        "plt.ylabel('Count of Flights',size=13)\n",
        "plt.show()"
      ]
    },
    {
      "cell_type": "code",
      "source": [
        "# visualize the delay time under different weather\n",
        "axis = plt.subplots(figsize=(10,10))\n",
        "sns.despine(bottom=True, left=True)\n",
        "sns.stripplot(x=\"delay\", y=\"weather\",data = train_df, dodge=True, jitter=True,palette=\"Set1\")\n",
        "plt.show()"
      ],
      "metadata": {
        "colab": {
          "base_uri": "https://localhost:8080/",
          "height": 606
        },
        "id": "2TuKb3N38VhN",
        "outputId": "6dd5ca8e-f54e-4364-ae53-2c9daccbfe2d"
      },
      "execution_count": null,
      "outputs": [
        {
          "output_type": "display_data",
          "data": {
            "text/plain": [
              "<Figure size 720x720 with 1 Axes>"
            ],
            "image/png": "[encoded data removed]"
          },
          "metadata": {
            "needs_background": "light"
          }
        }
      ]
    },
    {
      "cell_type": "code",
      "source": [
        "# 用train data的delay来做pie chart看航班晚到的distribution\n",
        "a1, a2, a3, a4, i = 0, 0, 0, 0, 0\n",
        "\n",
        "while i < train_df.shape[0]:\n",
        "  if train_df['delay'][i] <= 10:\n",
        "    a1 += 1\n",
        "    i += 1\n",
        "  elif train_df['delay'][i] > 10 and train_df['delay'][i] <= 30:\n",
        "    a2 += 1\n",
        "    i += 1\n",
        "  elif train_df['delay'][i] > 30 and train_df['delay'][i] < 60:\n",
        "    a3 += 1\n",
        "    i += 1\n",
        "  else:\n",
        "    a4 += 1\n",
        "    i += 1\n",
        "\n",
        "labels = ['under 10 minutes', 'within 30 minutes', 'within an hour', 'more than an hour']\n",
        "sizes = [a1, a2, a3, a4]\n",
        "explode = (0.1, 0.1, 0.1, 0.1)  \n",
        "fig1, ax1 = plt.subplots()\n",
        "ax1.pie(sizes, explode=explode, labels=labels, autopct='%1.1f%%',\n",
        "        shadow=False, startangle=90)\n",
        "ax1.axis('equal') \n",
        "plt.title(\"Distribution Bar Chart of Flight Delayed Time\")\n",
        "plt.show()"
      ],
      "metadata": {
        "colab": {
          "base_uri": "https://localhost:8080/",
          "height": 265
        },
        "id": "-0VlyF9D6Z6z",
        "outputId": "ee466d7a-6a5e-43da-fdb3-d02bac9510cc"
      },
      "execution_count": null,
      "outputs": [
        {
          "output_type": "display_data",
          "data": {
            "text/plain": [
              "<Figure size 432x288 with 1 Axes>"
            ],
            "image/png": "[encoded data removed]"
          },
          "metadata": {}
        }
      ]
    },
    {
      "cell_type": "code",
      "source": [
        "# calculate the average delay time for each airport (departure airport)\n",
        "delay_by_airport = train_df.groupby(by='dep_stn').mean()['delay']\n",
        "\n",
        "# Visualize the Distribution of delay for different airports\n",
        "delay_by_airport.plot(kind='bar')\n",
        "plt.title('Average Flights Delay by Departure Airport',size=15)\n",
        "plt.xlabel('Airport Name',size=13)\n",
        "plt.ylabel('Average Delay Time (in minute)',size=13)\n",
        "plt.show()"
      ],
      "metadata": {
        "colab": {
          "base_uri": "https://localhost:8080/",
          "height": 312
        },
        "id": "s0SuaxkEjfoA",
        "outputId": "63895d2d-e42e-4671-c3d7-c054671025b1"
      },
      "execution_count": null,
      "outputs": [
        {
          "output_type": "display_data",
          "data": {
            "text/plain": [
              "<Figure size 432x288 with 1 Axes>"
            ],
            "image/png": "[encoded data removed]"
          },
          "metadata": {
            "needs_background": "light"
          }
        }
      ]
    },
    {
      "cell_type": "code",
      "source": [],
      "metadata": {
        "id": "KY-go5kdjfvk"
      },
      "execution_count": null,
      "outputs": []
    },
    {
      "cell_type": "code",
      "source": [],
      "metadata": {
        "id": "C1g5DjeEjf0y"
      },
      "execution_count": null,
      "outputs": []
    },
    {
      "cell_type": "code",
      "source": [],
      "metadata": {
        "id": "ZGu0jMtfMhjB"
      },
      "execution_count": null,
      "outputs": []
    },
    {
      "cell_type": "markdown",
      "source": [
        "## **Feature Engineering**"
      ],
      "metadata": {
        "id": "9-mmV75-SfpZ"
      }
    },
    {
      "cell_type": "markdown",
      "source": [
        "#### - 对于文字类variable（比如出发降落机场）要用Label Encoder\n"
      ],
      "metadata": {
        "id": "dnRYf2YXQiA-"
      }
    },
    {
      "cell_type": "code",
      "source": [
        "## 重点！！\n",
        "lst_of_airport1 = train_df.dep_stn.unique().tolist()\n",
        "lst_of_airport2 = train_df.arr_stn.unique().tolist()\n",
        "\n",
        "full_apt_lst = set(lst_of_airport1 + lst_of_airport2)\n",
        "apt_to_id = {apt:i for i, apt in enumerate(full_apt_lst)}\n",
        "apt_to_id"
      ],
      "metadata": {
        "id": "de_VgfLiEsCA",
        "colab": {
          "base_uri": "https://localhost:8080/"
        },
        "outputId": "a77a3317-390d-4163-8958-7b74f8383957"
      },
      "execution_count": null,
      "outputs": [
        {
          "output_type": "execute_result",
          "data": {
            "text/plain": [
              "{'Sydney': 0, 'NJ': 1, 'NY': 2, 'Seoul': 3, 'Tokyo': 4, 'CDC': 5, 'BJ': 6}"
            ]
          },
          "metadata": {},
          "execution_count": 14
        }
      ]
    },
    {
      "cell_type": "code",
      "source": [
        "# {v: k for k, v in id_to_apt.items()}\n",
        "train_df['dep_stn'] = train_df['dep_stn'].apply(lambda x: apt_to_id[x])\n",
        "train_df['arr_stn'] = train_df['arr_stn'].apply(lambda x: apt_to_id[x])\n",
        "train_df"
      ],
      "metadata": {
        "id": "yQ8FpXu4IDSo",
        "colab": {
          "base_uri": "https://localhost:8080/",
          "height": 676
        },
        "outputId": "a78a6676-1d7f-4c29-8adb-afa5517c33d9"
      },
      "execution_count": null,
      "outputs": [
        {
          "output_type": "execute_result",
          "data": {
            "text/plain": [
              "    id  dep_stn  arr_stn  ac_code weather  hobbs_meter  year_man  delay\n",
              "0    1        5        0      747    Rain          614         3     31\n",
              "1    2        1        2      777   Sunny          382         5     22\n",
              "2    3        6        3      777  Cloudy          512         2     61\n",
              "3    4        5        4      747  Cloudy          413         4     19\n",
              "4    5        6        2      777   Sunny          563         3     36\n",
              "5    6        1        4      747    Rain          241         4     64\n",
              "6    7        6        2      777  Cloudy          309         5     42\n",
              "7    8        5        3      737   Sunny          425         2     35\n",
              "8    9        1        2      747   Sunny          702         4      5\n",
              "9   10        6        4      737  Cloudy          388         4     32\n",
              "10  11        5        3      737    Rain          523         3     48\n",
              "11  12        6        4      777    Rain          509         4     90\n",
              "12  13        5        3      737  Cloudy          552         4      7\n",
              "13  14        1        0      737   Sunny          524         4     52\n",
              "14  15        6        4      777  Cloudy          440         3     15\n",
              "15  16        5        0      747    Rain          890         4     58\n",
              "16  17        5        3      737    Rain          754         3     53\n",
              "17  18        1        0      747  Cloudy          713         4     61\n",
              "18  19        6        4      737   Sunny          561         3     20\n",
              "19  20        5        0      777    Rain          780         3    119"
            ],
            "text/html": [
              "\n",
              "  <div id=\"df-ccef1801-bd86-4aec-bd8b-10cb366798bf\">\n",
              "    <div class=\"colab-df-container\">\n",
              "      <div>\n",
              "<style scoped>\n",
              "    .dataframe tbody tr th:only-of-type {\n",
              "        vertical-align: middle;\n",
              "    }\n",
              "\n",
              "    .dataframe tbody tr th {\n",
              "        vertical-align: top;\n",
              "    }\n",
              "\n",
              "    .dataframe thead th {\n",
              "        text-align: right;\n",
              "    }\n",
              "</style>\n",
              "<table border=\"1\" class=\"dataframe\">\n",
              "  <thead>\n",
              "    <tr style=\"text-align: right;\">\n",
              "      <th></th>\n",
              "      <th>id</th>\n",
              "      <th>dep_stn</th>\n",
              "      <th>arr_stn</th>\n",
              "      <th>ac_code</th>\n",
              "      <th>weather</th>\n",
              "      <th>hobbs_meter</th>\n",
              "      <th>year_man</th>\n",
              "      <th>delay</th>\n",
              "    </tr>\n",
              "  </thead>\n",
              "  <tbody>\n",
              "    <tr>\n",
              "      <th>0</th>\n",
              "      <td>1</td>\n",
              "      <td>5</td>\n",
              "      <td>0</td>\n",
              "      <td>747</td>\n",
              "      <td>Rain</td>\n",
              "      <td>614</td>\n",
              "      <td>3</td>\n",
              "      <td>31</td>\n",
              "    </tr>\n",
              "    <tr>\n",
              "      <th>1</th>\n",
              "      <td>2</td>\n",
              "      <td>1</td>\n",
              "      <td>2</td>\n",
              "      <td>777</td>\n",
              "      <td>Sunny</td>\n",
              "      <td>382</td>\n",
              "      <td>5</td>\n",
              "      <td>22</td>\n",
              "    </tr>\n",
              "    <tr>\n",
              "      <th>2</th>\n",
              "      <td>3</td>\n",
              "      <td>6</td>\n",
              "      <td>3</td>\n",
              "      <td>777</td>\n",
              "      <td>Cloudy</td>\n",
              "      <td>512</td>\n",
              "      <td>2</td>\n",
              "      <td>61</td>\n",
              "    </tr>\n",
              "    <tr>\n",
              "      <th>3</th>\n",
              "      <td>4</td>\n",
              "      <td>5</td>\n",
              "      <td>4</td>\n",
              "      <td>747</td>\n",
              "      <td>Cloudy</td>\n",
              "      <td>413</td>\n",
              "      <td>4</td>\n",
              "      <td>19</td>\n",
              "    </tr>\n",
              "    <tr>\n",
              "      <th>4</th>\n",
              "      <td>5</td>\n",
              "      <td>6</td>\n",
              "      <td>2</td>\n",
              "      <td>777</td>\n",
              "      <td>Sunny</td>\n",
              "      <td>563</td>\n",
              "      <td>3</td>\n",
              "      <td>36</td>\n",
              "    </tr>\n",
              "    <tr>\n",
              "      <th>5</th>\n",
              "      <td>6</td>\n",
              "      <td>1</td>\n",
              "      <td>4</td>\n",
              "      <td>747</td>\n",
              "      <td>Rain</td>\n",
              "      <td>241</td>\n",
              "      <td>4</td>\n",
              "      <td>64</td>\n",
              "    </tr>\n",
              "    <tr>\n",
              "      <th>6</th>\n",
              "      <td>7</td>\n",
              "      <td>6</td>\n",
              "      <td>2</td>\n",
              "      <td>777</td>\n",
              "      <td>Cloudy</td>\n",
              "      <td>309</td>\n",
              "      <td>5</td>\n",
              "      <td>42</td>\n",
              "    </tr>\n",
              "    <tr>\n",
              "      <th>7</th>\n",
              "      <td>8</td>\n",
              "      <td>5</td>\n",
              "      <td>3</td>\n",
              "      <td>737</td>\n",
              "      <td>Sunny</td>\n",
              "      <td>425</td>\n",
              "      <td>2</td>\n",
              "      <td>35</td>\n",
              "    </tr>\n",
              "    <tr>\n",
              "      <th>8</th>\n",
              "      <td>9</td>\n",
              "      <td>1</td>\n",
              "      <td>2</td>\n",
              "      <td>747</td>\n",
              "      <td>Sunny</td>\n",
              "      <td>702</td>\n",
              "      <td>4</td>\n",
              "      <td>5</td>\n",
              "    </tr>\n",
              "    <tr>\n",
              "      <th>9</th>\n",
              "      <td>10</td>\n",
              "      <td>6</td>\n",
              "      <td>4</td>\n",
              "      <td>737</td>\n",
              "      <td>Cloudy</td>\n",
              "      <td>388</td>\n",
              "      <td>4</td>\n",
              "      <td>32</td>\n",
              "    </tr>\n",
              "    <tr>\n",
              "      <th>10</th>\n",
              "      <td>11</td>\n",
              "      <td>5</td>\n",
              "      <td>3</td>\n",
              "      <td>737</td>\n",
              "      <td>Rain</td>\n",
              "      <td>523</td>\n",
              "      <td>3</td>\n",
              "      <td>48</td>\n",
              "    </tr>\n",
              "    <tr>\n",
              "      <th>11</th>\n",
              "      <td>12</td>\n",
              "      <td>6</td>\n",
              "      <td>4</td>\n",
              "      <td>777</td>\n",
              "      <td>Rain</td>\n",
              "      <td>509</td>\n",
              "      <td>4</td>\n",
              "      <td>90</td>\n",
              "    </tr>\n",
              "    <tr>\n",
              "      <th>12</th>\n",
              "      <td>13</td>\n",
              "      <td>5</td>\n",
              "      <td>3</td>\n",
              "      <td>737</td>\n",
              "      <td>Cloudy</td>\n",
              "      <td>552</td>\n",
              "      <td>4</td>\n",
              "      <td>7</td>\n",
              "    </tr>\n",
              "    <tr>\n",
              "      <th>13</th>\n",
              "      <td>14</td>\n",
              "      <td>1</td>\n",
              "      <td>0</td>\n",
              "      <td>737</td>\n",
              "      <td>Sunny</td>\n",
              "      <td>524</td>\n",
              "      <td>4</td>\n",
              "      <td>52</td>\n",
              "    </tr>\n",
              "    <tr>\n",
              "      <th>14</th>\n",
              "      <td>15</td>\n",
              "      <td>6</td>\n",
              "      <td>4</td>\n",
              "      <td>777</td>\n",
              "      <td>Cloudy</td>\n",
              "      <td>440</td>\n",
              "      <td>3</td>\n",
              "      <td>15</td>\n",
              "    </tr>\n",
              "    <tr>\n",
              "      <th>15</th>\n",
              "      <td>16</td>\n",
              "      <td>5</td>\n",
              "      <td>0</td>\n",
              "      <td>747</td>\n",
              "      <td>Rain</td>\n",
              "      <td>890</td>\n",
              "      <td>4</td>\n",
              "      <td>58</td>\n",
              "    </tr>\n",
              "    <tr>\n",
              "      <th>16</th>\n",
              "      <td>17</td>\n",
              "      <td>5</td>\n",
              "      <td>3</td>\n",
              "      <td>737</td>\n",
              "      <td>Rain</td>\n",
              "      <td>754</td>\n",
              "      <td>3</td>\n",
              "      <td>53</td>\n",
              "    </tr>\n",
              "    <tr>\n",
              "      <th>17</th>\n",
              "      <td>18</td>\n",
              "      <td>1</td>\n",
              "      <td>0</td>\n",
              "      <td>747</td>\n",
              "      <td>Cloudy</td>\n",
              "      <td>713</td>\n",
              "      <td>4</td>\n",
              "      <td>61</td>\n",
              "    </tr>\n",
              "    <tr>\n",
              "      <th>18</th>\n",
              "      <td>19</td>\n",
              "      <td>6</td>\n",
              "      <td>4</td>\n",
              "      <td>737</td>\n",
              "      <td>Sunny</td>\n",
              "      <td>561</td>\n",
              "      <td>3</td>\n",
              "      <td>20</td>\n",
              "    </tr>\n",
              "    <tr>\n",
              "      <th>19</th>\n",
              "      <td>20</td>\n",
              "      <td>5</td>\n",
              "      <td>0</td>\n",
              "      <td>777</td>\n",
              "      <td>Rain</td>\n",
              "      <td>780</td>\n",
              "      <td>3</td>\n",
              "      <td>119</td>\n",
              "    </tr>\n",
              "  </tbody>\n",
              "</table>\n",
              "</div>\n",
              "      <button class=\"colab-df-convert\" onclick=\"convertToInteractive('df-ccef1801-bd86-4aec-bd8b-10cb366798bf')\"\n",
              "              title=\"Convert this dataframe to an interactive table.\"\n",
              "              style=\"display:none;\">\n",
              "        \n",
              "  <svg xmlns=\"http://www.w3.org/2000/svg\" height=\"24px\"viewBox=\"0 0 24 24\"\n",
              "       width=\"24px\">\n",
              "    <path d=\"M0 0h24v24H0V0z\" fill=\"none\"/>\n",
              "    <path d=\"M18.56 5.44l.94 2.06.94-2.06 2.06-.94-2.06-.94-.94-2.06-.94 2.06-2.06.94zm-11 1L8.5 8.5l.94-2.06 2.06-.94-2.06-.94L8.5 2.5l-.94 2.06-2.06.94zm10 10l.94 2.06.94-2.06 2.06-.94-2.06-.94-.94-2.06-.94 2.06-2.06.94z\"/><path d=\"M17.41 7.96l-1.37-1.37c-.4-.4-.92-.59-1.43-.59-.52 0-1.04.2-1.43.59L10.3 9.45l-7.72 7.72c-.78.78-.78 2.05 0 2.83L4 21.41c.39.39.9.59 1.41.59.51 0 1.02-.2 1.41-.59l7.78-7.78 2.81-2.81c.8-.78.8-2.07 0-2.86zM5.41 20L4 18.59l7.72-7.72 1.47 1.35L5.41 20z\"/>\n",
              "  </svg>\n",
              "      </button>\n",
              "      \n",
              "  <style>\n",
              "    .colab-df-container {\n",
              "      display:flex;\n",
              "      flex-wrap:wrap;\n",
              "      gap: 12px;\n",
              "    }\n",
              "\n",
              "    .colab-df-convert {\n",
              "      background-color: #E8F0FE;\n",
              "      border: none;\n",
              "      border-radius: 50%;\n",
              "      cursor: pointer;\n",
              "      display: none;\n",
              "      fill: #1967D2;\n",
              "      height: 32px;\n",
              "      padding: 0 0 0 0;\n",
              "      width: 32px;\n",
              "    }\n",
              "\n",
              "    .colab-df-convert:hover {\n",
              "      background-color: #E2EBFA;\n",
              "      box-shadow: 0px 1px 2px rgba(60, 64, 67, 0.3), 0px 1px 3px 1px rgba(60, 64, 67, 0.15);\n",
              "      fill: #174EA6;\n",
              "    }\n",
              "\n",
              "    [theme=dark] .colab-df-convert {\n",
              "      background-color: #3B4455;\n",
              "      fill: #D2E3FC;\n",
              "    }\n",
              "\n",
              "    [theme=dark] .colab-df-convert:hover {\n",
              "      background-color: #434B5C;\n",
              "      box-shadow: 0px 1px 3px 1px rgba(0, 0, 0, 0.15);\n",
              "      filter: drop-shadow(0px 1px 2px rgba(0, 0, 0, 0.3));\n",
              "      fill: #FFFFFF;\n",
              "    }\n",
              "  </style>\n",
              "\n",
              "      <script>\n",
              "        const buttonEl =\n",
              "          document.querySelector('#df-ccef1801-bd86-4aec-bd8b-10cb366798bf button.colab-df-convert');\n",
              "        buttonEl.style.display =\n",
              "          google.colab.kernel.accessAllowed ? 'block' : 'none';\n",
              "\n",
              "        async function convertToInteractive(key) {\n",
              "          const element = document.querySelector('#df-ccef1801-bd86-4aec-bd8b-10cb366798bf');\n",
              "          const dataTable =\n",
              "            await google.colab.kernel.invokeFunction('convertToInteractive',\n",
              "                                                     [key], {});\n",
              "          if (!dataTable) return;\n",
              "\n",
              "          const docLinkHtml = 'Like what you see? Visit the ' +\n",
              "            '<a target=\"_blank\" href=https://colab.research.google.com/notebooks/data_table.ipynb>data table notebook</a>'\n",
              "            + ' to learn more about interactive tables.';\n",
              "          element.innerHTML = '';\n",
              "          dataTable['output_type'] = 'display_data';\n",
              "          await google.colab.output.renderOutput(dataTable, element);\n",
              "          const docLink = document.createElement('div');\n",
              "          docLink.innerHTML = docLinkHtml;\n",
              "          element.appendChild(docLink);\n",
              "        }\n",
              "      </script>\n",
              "    </div>\n",
              "  </div>\n",
              "  "
            ]
          },
          "metadata": {},
          "execution_count": 15
        }
      ]
    },
    {
      "cell_type": "code",
      "source": [
        "labelencoder = LabelEncoder()\n",
        "train_df['weather'] = labelencoder.fit_transform(train_df['weather'])\n",
        "# apply below to test dataset to transform the weather column into numetical value\n",
        "test_df['weather'] = labelencoder.transform(test_df['weather'])"
      ],
      "metadata": {
        "id": "GH89Mvufb8-o"
      },
      "execution_count": null,
      "outputs": []
    },
    {
      "cell_type": "markdown",
      "source": [
        "### Random Forest\n",
        "### This is an ensemble technique. It creates multiple decision tress using a technique called bagging"
      ],
      "metadata": {
        "id": "dWHhHs8DIB7M"
      }
    },
    {
      "cell_type": "code",
      "source": [
        "# print out best parameters\n",
        "def print_best_params(results):\n",
        "    print('best_params: {}\\n'.format(results.best_params_))"
      ],
      "metadata": {
        "id": "T0JvIZqmbpQr"
      },
      "execution_count": null,
      "outputs": []
    },
    {
      "cell_type": "code",
      "source": [
        "X_train = train_df[train_df.loc[:, train_df.columns!='delay'].columns]\n",
        "Y_train = train_df[['delay']]"
      ],
      "metadata": {
        "id": "FC93HmvFbM9v"
      },
      "execution_count": null,
      "outputs": []
    },
    {
      "cell_type": "code",
      "source": [
        "para = {\"max_depth\":[20,40,80,100], \"n_estimators\":[10,30,100,120]}\n",
        "rf_cv = GridSearchCV(estimator = RandomForestRegressor(), param_grid = para, cv = 3, n_jobs=-1).fit(X_train, Y_train)\n",
        "print_best_params(rf_cv)"
      ],
      "metadata": {
        "colab": {
          "base_uri": "https://localhost:8080/"
        },
        "id": "L0NSYHgjbZbp",
        "outputId": "4284e460-c5f2-4310-e5e2-b0b3dcffaaee"
      },
      "execution_count": null,
      "outputs": [
        {
          "output_type": "stream",
          "name": "stdout",
          "text": [
            "best_params: {'max_depth': 100, 'n_estimators': 10}\n",
            "\n"
          ]
        },
        {
          "output_type": "stream",
          "name": "stderr",
          "text": [
            "/usr/local/lib/python3.7/dist-packages/sklearn/model_selection/_search.py:926: DataConversionWarning: A column-vector y was passed when a 1d array was expected. Please change the shape of y to (n_samples,), for example using ravel().\n",
            "  self.best_estimator_.fit(X, y, **fit_params)\n"
          ]
        }
      ]
    },
    {
      "cell_type": "code",
      "source": [
        "y_pred = rf_cv.best_estimator_.predict(X_train)"
      ],
      "metadata": {
        "id": "e89XAfFQcYut"
      },
      "execution_count": null,
      "outputs": []
    },
    {
      "cell_type": "code",
      "source": [
        "y_pred"
      ],
      "metadata": {
        "colab": {
          "base_uri": "https://localhost:8080/"
        },
        "id": "Bpxeex_JcjlO",
        "outputId": "7917c3f0-2ea7-4049-aff2-59255e65d99b"
      },
      "execution_count": null,
      "outputs": [
        {
          "output_type": "execute_result",
          "data": {
            "text/plain": [
              "array([33.7, 23.4, 44.6, 30.6, 35.5, 45.6, 40.2, 36.2, 19.2, 26.3, 45.2,\n",
              "       60.3, 16.4, 45.5, 29.5, 64.5, 56.6, 49.9, 23.3, 72.6])"
            ]
          },
          "metadata": {},
          "execution_count": 22
        }
      ]
    },
    {
      "cell_type": "markdown",
      "source": [
        "#### - MAPE Calculation"
      ],
      "metadata": {
        "id": "iN90WRusPBpo"
      }
    },
    {
      "cell_type": "code",
      "source": [
        "y_true = train_df[\"delay\"].tolist()\n",
        "\n",
        "y_pred = rf_cv.best_estimator_.predict(X_train)\n",
        "\n",
        "from sklearn.metrics import mean_absolute_percentage_error\n",
        "\n",
        "mean_absolute_percentage_error(y_true, y_pred)\n",
        "# 0.3273..."
      ],
      "metadata": {
        "id": "BRPd78KIPDU3",
        "colab": {
          "base_uri": "https://localhost:8080/"
        },
        "outputId": "99271255-8209-4dd3-e104-ec7359d1a1ab"
      },
      "execution_count": null,
      "outputs": [
        {
          "output_type": "execute_result",
          "data": {
            "text/plain": [
              "0.4083251237422553"
            ]
          },
          "metadata": {},
          "execution_count": 23
        }
      ]
    },
    {
      "cell_type": "markdown",
      "source": [
        "#### Visualize the importance of features"
      ],
      "metadata": {
        "id": "PorUoi3ZiS8c"
      }
    },
    {
      "cell_type": "code",
      "source": [
        "rf_cv.best_estimator_.feature_importances_"
      ],
      "metadata": {
        "colab": {
          "base_uri": "https://localhost:8080/"
        },
        "id": "TnoOmYjgigFT",
        "outputId": "59be360b-483f-4f56-c85f-4371b2b9ccf6"
      },
      "execution_count": null,
      "outputs": [
        {
          "output_type": "execute_result",
          "data": {
            "text/plain": [
              "array([0.27181646, 0.02037054, 0.10794571, 0.03477913, 0.10434151,\n",
              "       0.42751906, 0.03322759])"
            ]
          },
          "metadata": {},
          "execution_count": 25
        }
      ]
    },
    {
      "cell_type": "code",
      "source": [
        "sorted_idx = rf_cv.best_estimator_.feature_importances_.argsort()\n",
        "plt.barh(rf_cv.best_estimator_.feature_names_in_[sorted_idx], rf_cv.best_estimator_.feature_importances_[sorted_idx])\n",
        "plt.xlabel(\"Random Forest Feature Importance\")"
      ],
      "metadata": {
        "colab": {
          "base_uri": "https://localhost:8080/",
          "height": 296
        },
        "id": "funY8GABiZep",
        "outputId": "5281cae4-4df6-472c-e07e-7a1cbd6c234c"
      },
      "execution_count": null,
      "outputs": [
        {
          "output_type": "execute_result",
          "data": {
            "text/plain": [
              "Text(0.5, 0, 'Random Forest Feature Importance')"
            ]
          },
          "metadata": {},
          "execution_count": 29
        },
        {
          "output_type": "display_data",
          "data": {
            "text/plain": [
              "<Figure size 432x288 with 1 Axes>"
            ],
            "image/png": "[encoded data removed]"
          },
          "metadata": {
            "needs_background": "light"
          }
        }
      ]
    }
  ]
}