{
  "nbformat": 4,
  "nbformat_minor": 0,
  "metadata": {
    "colab": {
      "provenance": []
    },
    "kernelspec": {
      "name": "python3",
      "display_name": "Python 3"
    },
    "language_info": {
      "name": "python"
    }
  },
  "cells": [
    {
      "cell_type": "markdown",
      "source": [
        "---------------------\n",
        "**Key Concepts**\n",
        "\n",
        "- Use CNN to recognize the hand-written digits.\n",
        "  - A convolutional neural network (CNN or ConvNet) is a network architecture for deep learning that learns directly from data. **CNNs are particularly useful for finding patterns in images to recognize objects, classes, and categories. They can also be quite effective for classifying audio, time-series, and signal data.**\n",
        "  - CNN is a class of neural networks that specializes in processing data that has a **grid-like topology, such as an image**.\n",
        "  - CNN essentially enables sight to computers\n",
        "  - CNN Architecture: A convolutional layer, a pooling layer, and a fully connected layer.\n",
        "   - Convulitonal layer: The core building block of the CNN. It carries the main portion of the network’s computational load. This layer performs a dot product between two matrices, where one matrix is the set of learnable parameters otherwise known as a kernel, and the other matrix is the restricted portion of the receptive field.\n",
        "   - Pooling layer: It replaces the output of the network at certain locations by deriving a summary statistic of the nearby outputs. This helps in reducing the spatial size of the representation, which decreases the required amount of computation and weights. The pooling operation is processed on every slice of the representation individually.\n",
        "   - Fully connected layer: Neurons in this layer have full connectivity with all neurons in the preceding and succeeding layer as seen in regular FCNN. This is why it can be computed as usual by a matrix multiplication followed by a bias effect.\n",
        "\n",
        "The FC layer helps to map the representation between the input and the output.\n",
        "\n",
        "![](https://miro.medium.com/v2/resize:fit:786/format:webp/1*kkyW7BR5FZJq4_oBTx3OPQ.png)\n",
        "\n",
        "**Project Highlights**\n",
        "- Each image is 28 pixels in height and 28 pixels in width, for a total of 784 pixels in total. Each pixel has a single pixel-value associated with it, indicating the lightness or darkness of that pixel, with higher numbers meaning darker. This pixel-value is an integer between 0 and 255, inclusive.\n",
        "- The training data set, (train.csv), has 785 columns. **The first column, called \"label\", is the digit that was drawn by the user.** The rest of the columns contain the pixel-values of the associated image.\n",
        "---------------------"
      ],
      "metadata": {
        "id": "1DwjoqFcrpZ3"
      }
    },
    {
      "cell_type": "markdown",
      "source": [
        "### **Data Import and Libraries Loading**"
      ],
      "metadata": {
        "id": "5coFQaWRswSb"
      }
    },
    {
      "cell_type": "code",
      "execution_count": 1,
      "metadata": {
        "id": "MBgIk_ECreYv"
      },
      "outputs": [],
      "source": [
        "import numpy as np\n",
        "import pandas as pd\n",
        "import itertools\n",
        "\n",
        "import matplotlib.pyplot as plt\n",
        "import matplotlib.image as mpimg\n",
        "import seaborn as sns\n",
        "%matplotlib inline\n",
        "\n",
        "from sklearn.model_selection import train_test_split\n",
        "from sklearn.preprocessing import OneHotEncoder\n",
        "from sklearn.metrics import confusion_matrix\n",
        "from sklearn.manifold import MDS, TSNE\n",
        "\n",
        "import tensorflow as tf\n",
        "from tensorflow import keras\n",
        "\n",
        "import keras\n",
        "from keras.models import Sequential\n",
        "from keras.layers import Dense, Dropout, Flatten, Conv2D, MaxPool2D\n",
        "# from keras.layers.normalization import BatchNormalization\n",
        "from keras.preprocessing.image import ImageDataGenerator\n",
        "from keras.callbacks import ReduceLROnPlateau\n",
        "from keras import  backend as K\n",
        "from keras.optimizers import Adam ,RMSprop"
      ]
    },
    {
      "cell_type": "code",
      "source": [
        "train_df = pd.read_csv(\"train.csv\")\n",
        "test_df = pd.read_csv(\"test.csv\")"
      ],
      "metadata": {
        "id": "iaz-9plms9IR"
      },
      "execution_count": 2,
      "outputs": []
    },
    {
      "cell_type": "code",
      "source": [
        "train_df.head(3)\n",
        "print(train_df.shape[0])"
      ],
      "metadata": {
        "colab": {
          "base_uri": "https://localhost:8080/"
        },
        "id": "f84mKCmDyJMx",
        "outputId": "2662af11-f2d3-412d-a318-081d2190e63f"
      },
      "execution_count": 3,
      "outputs": [
        {
          "output_type": "stream",
          "name": "stdout",
          "text": [
            "42000\n"
          ]
        }
      ]
    },
    {
      "cell_type": "code",
      "source": [
        "test_df.head(3)\n",
        "print(test_df.shape[0])"
      ],
      "metadata": {
        "id": "wcYwyo29zWuO",
        "outputId": "3203123e-5905-4dd7-aa98-ab7513df8861",
        "colab": {
          "base_uri": "https://localhost:8080/"
        }
      },
      "execution_count": 4,
      "outputs": [
        {
          "output_type": "stream",
          "name": "stdout",
          "text": [
            "28000\n"
          ]
        }
      ]
    },
    {
      "cell_type": "code",
      "source": [
        "images = train_df.iloc[0:42000,1:]\n",
        "labels = train_df.iloc[0:42000,:1]\n",
        "\n",
        "train_images, test_images,train_labels, test_labels = train_test_split(images, labels, train_size=0.8, random_state=0)"
      ],
      "metadata": {
        "id": "Vh-WAu7_FZtU"
      },
      "execution_count": 5,
      "outputs": []
    },
    {
      "cell_type": "code",
      "source": [
        "img=train_images.iloc[100].to_numpy()\n",
        "img=img.reshape((28,28))\n",
        "plt.imshow(img,cmap='gray')\n",
        "plt.title(train_labels.iloc[100,0])"
      ],
      "metadata": {
        "colab": {
          "base_uri": "https://localhost:8080/",
          "height": 470
        },
        "id": "FJG2tgaYGW-N",
        "outputId": "edaf52df-aa5f-4c6e-a813-75774c2557c0"
      },
      "execution_count": 6,
      "outputs": [
        {
          "output_type": "execute_result",
          "data": {
            "text/plain": [
              "Text(0.5, 1.0, '0')"
            ]
          },
          "metadata": {},
          "execution_count": 6
        },
        {
          "output_type": "display_data",
          "data": {
            "text/plain": [
              "<Figure size 640x480 with 1 Axes>"
            ],
            "image/png": "[encoded data removed]"
          },
          "metadata": {}
        }
      ]
    },
    {
      "cell_type": "markdown",
      "source": [
        "### **Model Training**\n",
        "- Use the sklearn.svm module to create a vector classifier.\n",
        "- Pass the training images and labels to the classifier's fit method, which trains our model.\n",
        "- The test images and labels are passed to the score method to see how well we trained our model. Fit will return a float between 0-1 indicating our accuracy on the test data set"
      ],
      "metadata": {
        "id": "539bRiEAJfTw"
      }
    },
    {
      "cell_type": "code",
      "source": [
        "from sklearn import svm\n",
        "\n",
        "clf = svm.SVC()\n",
        "clf.fit(train_images, train_labels.values.ravel())\n",
        "clf.score(test_images,test_labels)"
      ],
      "metadata": {
        "colab": {
          "base_uri": "https://localhost:8080/"
        },
        "id": "pZ2r4yFSJUdx",
        "outputId": "8da20b36-068b-4f63-887f-01de3289986b"
      },
      "execution_count": 7,
      "outputs": [
        {
          "output_type": "execute_result",
          "data": {
            "text/plain": [
              "0.9747619047619047"
            ]
          },
          "metadata": {},
          "execution_count": 7
        }
      ]
    },
    {
      "cell_type": "markdown",
      "source": [
        "This clf score of 0.975 is pretty high. Let's try if we can improve it even more by making some changes to the images themselves."
      ],
      "metadata": {
        "id": "O3eNsVuLLodV"
      }
    },
    {
      "cell_type": "code",
      "source": [
        "# Transform the gray-sclaed images into black and white\n",
        "## any pixel with a value simply becomes 1 and everything else remains 0\n",
        "test_images[test_images>0]=1\n",
        "train_images[train_images>0]=1\n",
        "\n",
        "img=train_images.iloc[100].to_numpy().reshape((28,28))\n",
        "plt.imshow(img,cmap='binary')\n",
        "plt.title(train_labels.iloc[100,0])"
      ],
      "metadata": {
        "colab": {
          "base_uri": "https://localhost:8080/",
          "height": 470
        },
        "id": "hfv7lT4gJ9t5",
        "outputId": "abd9913e-0f5e-4280-ca57-c878c284a536"
      },
      "execution_count": 8,
      "outputs": [
        {
          "output_type": "execute_result",
          "data": {
            "text/plain": [
              "Text(0.5, 1.0, '0')"
            ]
          },
          "metadata": {},
          "execution_count": 8
        },
        {
          "output_type": "display_data",
          "data": {
            "text/plain": [
              "<Figure size 640x480 with 1 Axes>"
            ],
            "image/png": "[encoded data removed]"
          },
          "metadata": {}
        }
      ]
    },
    {
      "cell_type": "code",
      "source": [
        "clf = svm.SVC()\n",
        "clf.fit(train_images, train_labels.values.ravel())\n",
        "clf.score(test_images,test_labels)"
      ],
      "metadata": {
        "id": "6w6g7vYaJ9wv",
        "colab": {
          "base_uri": "https://localhost:8080/"
        },
        "outputId": "da183cd8-f65e-424a-92cc-0d3492e5073d"
      },
      "execution_count": 9,
      "outputs": [
        {
          "output_type": "execute_result",
          "data": {
            "text/plain": [
              "0.9720238095238095"
            ]
          },
          "metadata": {},
          "execution_count": 9
        }
      ]
    }
  ]
}