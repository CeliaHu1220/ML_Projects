{
  "nbformat": 4,
  "nbformat_minor": 0,
  "metadata": {
    "colab": {
      "provenance": []
    },
    "kernelspec": {
      "name": "python3",
      "display_name": "Python 3"
    },
    "language_info": {
      "name": "python"
    }
  },
  "cells": [
    {
      "cell_type": "markdown",
      "source": [
        "# **Predict the likehood of customer churning**\n",
        "#### Project Overview: Since it's much more expensive to acquire new customers than to retain current customers, market researchers want to know beforehand the likehood of a customer stopping subscription to the company's service. \n",
        "#### Customer churn: This marketing term refers to the percentage of customers who stopped purchasing your business's products or services during a certain period of time.\n",
        "#### **Highlight of this project**: Treatment of **False Negative** issue (the model predicted that the customer would not churn, but the customer in fact churned)\n",
        "Original dataset can be accessed at https://www.kaggle.com/datasets/blastchar/telco-customer-churn?resource=download\n"
      ],
      "metadata": {
        "id": "LoKqVAG4qS3b"
      }
    },
    {
      "cell_type": "markdown",
      "source": [
        "## **1. Data + Library loading & Preliminary inspection**"
      ],
      "metadata": {
        "id": "nf-WjGlrtWIn"
      }
    },
    {
      "cell_type": "code",
      "source": [
        "#%%capture\n",
        "import pandas as pd\n",
        "import numpy as np\n",
        "from datetime import datetime\n",
        "import matplotlib.pyplot as plt\n",
        "import seaborn as sns\n",
        "from sklearn import preprocessing\n",
        "import warnings\n",
        "warnings.filterwarnings(\"ignore\")"
      ],
      "metadata": {
        "id": "RcOM8LDstVnB"
      },
      "execution_count": 1,
      "outputs": []
    },
    {
      "cell_type": "code",
      "execution_count": 3,
      "metadata": {
        "colab": {
          "base_uri": "https://localhost:8080/"
        },
        "id": "AUdBHzH5qLrd",
        "outputId": "6f1adf7d-f853-4997-f3c5-097962eb1de7"
      },
      "outputs": [
        {
          "output_type": "stream",
          "name": "stdout",
          "text": [
            "The dataset contains 7043 rows of customers records, and 21 columns/variables\n"
          ]
        }
      ],
      "source": [
        "# import the dataset\n",
        "df = pd.read_csv('telco.csv')\n",
        "\n",
        "# view the dataset's shape\n",
        "print(\"The dataset contains {} rows of customers records, and {} columns/variables\".format(df.shape[0], df.shape[1]))"
      ]
    },
    {
      "cell_type": "code",
      "source": [
        "# check unique values of each column\n",
        "for column in df.columns:\n",
        "    print('Column: {} - Unique Values: {}'.format(column, df[column].unique()))"
      ],
      "metadata": {
        "colab": {
          "base_uri": "https://localhost:8080/"
        },
        "id": "phFmb1T_tlys",
        "outputId": "d2dd0158-e89d-4a84-cf73-359e17ca5d43"
      },
      "execution_count": 4,
      "outputs": [
        {
          "output_type": "stream",
          "name": "stdout",
          "text": [
            "Column: customerID - Unique Values: ['7590-VHVEG' '5575-GNVDE' '3668-QPYBK' ... '4801-JZAZL' '8361-LTMKD'\n",
            " '3186-AJIEK']\n",
            "Column: gender - Unique Values: ['Female' 'Male']\n",
            "Column: SeniorCitizen - Unique Values: [0 1]\n",
            "Column: Partner - Unique Values: ['Yes' 'No']\n",
            "Column: Dependents - Unique Values: ['No' 'Yes']\n",
            "Column: tenure - Unique Values: [ 1 34  2 45  8 22 10 28 62 13 16 58 49 25 69 52 71 21 12 30 47 72 17 27\n",
            "  5 46 11 70 63 43 15 60 18 66  9  3 31 50 64 56  7 42 35 48 29 65 38 68\n",
            " 32 55 37 36 41  6  4 33 67 23 57 61 14 20 53 40 59 24 44 19 54 51 26  0\n",
            " 39]\n",
            "Column: PhoneService - Unique Values: ['No' 'Yes']\n",
            "Column: MultipleLines - Unique Values: ['No phone service' 'No' 'Yes']\n",
            "Column: InternetService - Unique Values: ['DSL' 'Fiber optic' 'No']\n",
            "Column: OnlineSecurity - Unique Values: ['No' 'Yes' 'No internet service']\n",
            "Column: OnlineBackup - Unique Values: ['Yes' 'No' 'No internet service']\n",
            "Column: DeviceProtection - Unique Values: ['No' 'Yes' 'No internet service']\n",
            "Column: TechSupport - Unique Values: ['No' 'Yes' 'No internet service']\n",
            "Column: StreamingTV - Unique Values: ['No' 'Yes' 'No internet service']\n",
            "Column: StreamingMovies - Unique Values: ['No' 'Yes' 'No internet service']\n",
            "Column: Contract - Unique Values: ['Month-to-month' 'One year' 'Two year']\n",
            "Column: PaperlessBilling - Unique Values: ['Yes' 'No']\n",
            "Column: PaymentMethod - Unique Values: ['Electronic check' 'Mailed check' 'Bank transfer (automatic)'\n",
            " 'Credit card (automatic)']\n",
            "Column: MonthlyCharges - Unique Values: [29.85 56.95 53.85 ... 63.1  44.2  78.7 ]\n",
            "Column: TotalCharges - Unique Values: ['29.85' '1889.5' '108.15' ... '346.45' '306.6' '6844.5']\n",
            "Column: Churn - Unique Values: ['No' 'Yes']\n"
          ]
        }
      ]
    },
    {
      "cell_type": "code",
      "source": [
        "# inspect whether class imbalance exists\n",
        "print(\"Among all {} available records, there are {} customers who churned last month and {} customers who didn't churn last month\".format(df.shape[0], df[df['Churn']=='Yes'].shape[0], df[df['Churn']=='No'].shape[0]))"
      ],
      "metadata": {
        "colab": {
          "base_uri": "https://localhost:8080/"
        },
        "id": "fK5pyFn8tvMx",
        "outputId": "0215b93c-e891-40e9-ad5a-dafdb4acce54"
      },
      "execution_count": 5,
      "outputs": [
        {
          "output_type": "stream",
          "name": "stdout",
          "text": [
            "Among all 7043 available records, there are 1869 customers who churned last month and 5174 customers who didn't churn last month\n"
          ]
        }
      ]
    },
    {
      "cell_type": "code",
      "source": [
        "# drop the obviously-useless column id\n",
        "df = df.drop(columns='customerID')\n",
        "df.head(3)"
      ],
      "metadata": {
        "colab": {
          "base_uri": "https://localhost:8080/",
          "height": 242
        },
        "id": "sZkYJAS3uCGL",
        "outputId": "d825e13c-caad-4a15-d8a8-365c4a5989d3"
      },
      "execution_count": 6,
      "outputs": [
        {
          "output_type": "execute_result",
          "data": {
            "text/plain": [
              "   gender  SeniorCitizen Partner Dependents  tenure PhoneService  \\\n",
              "0  Female              0     Yes         No       1           No   \n",
              "1    Male              0      No         No      34          Yes   \n",
              "2    Male              0      No         No       2          Yes   \n",
              "\n",
              "      MultipleLines InternetService OnlineSecurity OnlineBackup  \\\n",
              "0  No phone service             DSL             No          Yes   \n",
              "1                No             DSL            Yes           No   \n",
              "2                No             DSL            Yes          Yes   \n",
              "\n",
              "  DeviceProtection TechSupport StreamingTV StreamingMovies        Contract  \\\n",
              "0               No          No          No              No  Month-to-month   \n",
              "1              Yes          No          No              No        One year   \n",
              "2               No          No          No              No  Month-to-month   \n",
              "\n",
              "  PaperlessBilling     PaymentMethod  MonthlyCharges TotalCharges Churn  \n",
              "0              Yes  Electronic check           29.85        29.85    No  \n",
              "1               No      Mailed check           56.95       1889.5    No  \n",
              "2              Yes      Mailed check           53.85       108.15   Yes  "
            ],
            "text/html": [
              "\n",
              "  <div id=\"df-08914193-e562-4f8d-a3cb-39b15b3f4d12\">\n",
              "    <div class=\"colab-df-container\">\n",
              "      <div>\n",
              "<style scoped>\n",
              "    .dataframe tbody tr th:only-of-type {\n",
              "        vertical-align: middle;\n",
              "    }\n",
              "\n",
              "    .dataframe tbody tr th {\n",
              "        vertical-align: top;\n",
              "    }\n",
              "\n",
              "    .dataframe thead th {\n",
              "        text-align: right;\n",
              "    }\n",
              "</style>\n",
              "<table border=\"1\" class=\"dataframe\">\n",
              "  <thead>\n",
              "    <tr style=\"text-align: right;\">\n",
              "      <th></th>\n",
              "      <th>gender</th>\n",
              "      <th>SeniorCitizen</th>\n",
              "      <th>Partner</th>\n",
              "      <th>Dependents</th>\n",
              "      <th>tenure</th>\n",
              "      <th>PhoneService</th>\n",
              "      <th>MultipleLines</th>\n",
              "      <th>InternetService</th>\n",
              "      <th>OnlineSecurity</th>\n",
              "      <th>OnlineBackup</th>\n",
              "      <th>DeviceProtection</th>\n",
              "      <th>TechSupport</th>\n",
              "      <th>StreamingTV</th>\n",
              "      <th>StreamingMovies</th>\n",
              "      <th>Contract</th>\n",
              "      <th>PaperlessBilling</th>\n",
              "      <th>PaymentMethod</th>\n",
              "      <th>MonthlyCharges</th>\n",
              "      <th>TotalCharges</th>\n",
              "      <th>Churn</th>\n",
              "    </tr>\n",
              "  </thead>\n",
              "  <tbody>\n",
              "    <tr>\n",
              "      <th>0</th>\n",
              "      <td>Female</td>\n",
              "      <td>0</td>\n",
              "      <td>Yes</td>\n",
              "      <td>No</td>\n",
              "      <td>1</td>\n",
              "      <td>No</td>\n",
              "      <td>No phone service</td>\n",
              "      <td>DSL</td>\n",
              "      <td>No</td>\n",
              "      <td>Yes</td>\n",
              "      <td>No</td>\n",
              "      <td>No</td>\n",
              "      <td>No</td>\n",
              "      <td>No</td>\n",
              "      <td>Month-to-month</td>\n",
              "      <td>Yes</td>\n",
              "      <td>Electronic check</td>\n",
              "      <td>29.85</td>\n",
              "      <td>29.85</td>\n",
              "      <td>No</td>\n",
              "    </tr>\n",
              "    <tr>\n",
              "      <th>1</th>\n",
              "      <td>Male</td>\n",
              "      <td>0</td>\n",
              "      <td>No</td>\n",
              "      <td>No</td>\n",
              "      <td>34</td>\n",
              "      <td>Yes</td>\n",
              "      <td>No</td>\n",
              "      <td>DSL</td>\n",
              "      <td>Yes</td>\n",
              "      <td>No</td>\n",
              "      <td>Yes</td>\n",
              "      <td>No</td>\n",
              "      <td>No</td>\n",
              "      <td>No</td>\n",
              "      <td>One year</td>\n",
              "      <td>No</td>\n",
              "      <td>Mailed check</td>\n",
              "      <td>56.95</td>\n",
              "      <td>1889.5</td>\n",
              "      <td>No</td>\n",
              "    </tr>\n",
              "    <tr>\n",
              "      <th>2</th>\n",
              "      <td>Male</td>\n",
              "      <td>0</td>\n",
              "      <td>No</td>\n",
              "      <td>No</td>\n",
              "      <td>2</td>\n",
              "      <td>Yes</td>\n",
              "      <td>No</td>\n",
              "      <td>DSL</td>\n",
              "      <td>Yes</td>\n",
              "      <td>Yes</td>\n",
              "      <td>No</td>\n",
              "      <td>No</td>\n",
              "      <td>No</td>\n",
              "      <td>No</td>\n",
              "      <td>Month-to-month</td>\n",
              "      <td>Yes</td>\n",
              "      <td>Mailed check</td>\n",
              "      <td>53.85</td>\n",
              "      <td>108.15</td>\n",
              "      <td>Yes</td>\n",
              "    </tr>\n",
              "  </tbody>\n",
              "</table>\n",
              "</div>\n",
              "      <button class=\"colab-df-convert\" onclick=\"convertToInteractive('df-08914193-e562-4f8d-a3cb-39b15b3f4d12')\"\n",
              "              title=\"Convert this dataframe to an interactive table.\"\n",
              "              style=\"display:none;\">\n",
              "        \n",
              "  <svg xmlns=\"http://www.w3.org/2000/svg\" height=\"24px\"viewBox=\"0 0 24 24\"\n",
              "       width=\"24px\">\n",
              "    <path d=\"M0 0h24v24H0V0z\" fill=\"none\"/>\n",
              "    <path d=\"M18.56 5.44l.94 2.06.94-2.06 2.06-.94-2.06-.94-.94-2.06-.94 2.06-2.06.94zm-11 1L8.5 8.5l.94-2.06 2.06-.94-2.06-.94L8.5 2.5l-.94 2.06-2.06.94zm10 10l.94 2.06.94-2.06 2.06-.94-2.06-.94-.94-2.06-.94 2.06-2.06.94z\"/><path d=\"M17.41 7.96l-1.37-1.37c-.4-.4-.92-.59-1.43-.59-.52 0-1.04.2-1.43.59L10.3 9.45l-7.72 7.72c-.78.78-.78 2.05 0 2.83L4 21.41c.39.39.9.59 1.41.59.51 0 1.02-.2 1.41-.59l7.78-7.78 2.81-2.81c.8-.78.8-2.07 0-2.86zM5.41 20L4 18.59l7.72-7.72 1.47 1.35L5.41 20z\"/>\n",
              "  </svg>\n",
              "      </button>\n",
              "      \n",
              "  <style>\n",
              "    .colab-df-container {\n",
              "      display:flex;\n",
              "      flex-wrap:wrap;\n",
              "      gap: 12px;\n",
              "    }\n",
              "\n",
              "    .colab-df-convert {\n",
              "      background-color: #E8F0FE;\n",
              "      border: none;\n",
              "      border-radius: 50%;\n",
              "      cursor: pointer;\n",
              "      display: none;\n",
              "      fill: #1967D2;\n",
              "      height: 32px;\n",
              "      padding: 0 0 0 0;\n",
              "      width: 32px;\n",
              "    }\n",
              "\n",
              "    .colab-df-convert:hover {\n",
              "      background-color: #E2EBFA;\n",
              "      box-shadow: 0px 1px 2px rgba(60, 64, 67, 0.3), 0px 1px 3px 1px rgba(60, 64, 67, 0.15);\n",
              "      fill: #174EA6;\n",
              "    }\n",
              "\n",
              "    [theme=dark] .colab-df-convert {\n",
              "      background-color: #3B4455;\n",
              "      fill: #D2E3FC;\n",
              "    }\n",
              "\n",
              "    [theme=dark] .colab-df-convert:hover {\n",
              "      background-color: #434B5C;\n",
              "      box-shadow: 0px 1px 3px 1px rgba(0, 0, 0, 0.15);\n",
              "      filter: drop-shadow(0px 1px 2px rgba(0, 0, 0, 0.3));\n",
              "      fill: #FFFFFF;\n",
              "    }\n",
              "  </style>\n",
              "\n",
              "      <script>\n",
              "        const buttonEl =\n",
              "          document.querySelector('#df-08914193-e562-4f8d-a3cb-39b15b3f4d12 button.colab-df-convert');\n",
              "        buttonEl.style.display =\n",
              "          google.colab.kernel.accessAllowed ? 'block' : 'none';\n",
              "\n",
              "        async function convertToInteractive(key) {\n",
              "          const element = document.querySelector('#df-08914193-e562-4f8d-a3cb-39b15b3f4d12');\n",
              "          const dataTable =\n",
              "            await google.colab.kernel.invokeFunction('convertToInteractive',\n",
              "                                                     [key], {});\n",
              "          if (!dataTable) return;\n",
              "\n",
              "          const docLinkHtml = 'Like what you see? Visit the ' +\n",
              "            '<a target=\"_blank\" href=https://colab.research.google.com/notebooks/data_table.ipynb>data table notebook</a>'\n",
              "            + ' to learn more about interactive tables.';\n",
              "          element.innerHTML = '';\n",
              "          dataTable['output_type'] = 'display_data';\n",
              "          await google.colab.output.renderOutput(dataTable, element);\n",
              "          const docLink = document.createElement('div');\n",
              "          docLink.innerHTML = docLinkHtml;\n",
              "          element.appendChild(docLink);\n",
              "        }\n",
              "      </script>\n",
              "    </div>\n",
              "  </div>\n",
              "  "
            ]
          },
          "metadata": {},
          "execution_count": 6
        }
      ]
    },
    {
      "cell_type": "markdown",
      "source": [
        "As shown above, the data set contains 19 independent variables, which can be classified into 3 groups:\n",
        "\n",
        " **(1) Demographic Information**\n",
        "\n",
        "gender: Whether the client is a female or a male (Female, Male).\n",
        "\n",
        "SeniorCitizen: Whether the client is a senior citizen or not ( 0, 1).\n",
        "\n",
        "Partner: Whether the client has a partner or not (Yes, No).\n",
        "\n",
        "Dependents: Whether the client has dependents or not (Yes, No).\n",
        "\n",
        " **(2) Customer Account Information**\n",
        "\n",
        "tenure: Number of months the customer has stayed with the company (Multiple different numeric values).\n",
        "\n",
        "Contract: Indicates the customer’s current contract type (Month-to-Month, One year, Two year).\n",
        "\n",
        "PaperlessBilling: Whether the client has paperless billing or not (Yes, No).\n",
        "\n",
        "PaymentMethod: The customer’s payment method (Electronic check, Mailed check, Bank transfer (automatic), Credit Card (automatic)).\n",
        "\n",
        "MontlyCharges: The amount charged to the customer monthly (Multiple different numeric values).\n",
        "\n",
        "TotalCharges: The total amount charged to the customer (Multiple different numeric values).\n",
        "\n",
        "**(3) Services Information**\n",
        "\n",
        "PhoneService: Whether the client has a phone service or not (Yes, No).\n",
        "\n",
        "MultipleLines: Whether the client has multiple lines or not (No phone service, No, Yes).\n",
        "\n",
        "InternetServices: Whether the client is subscribed to Internet service with the company (DSL, Fiber optic, No)\n",
        "\n",
        "OnlineSecurity: Whether the client has online security or not (No internet service, No, Yes).\n",
        "\n",
        "OnlineBackup: Whether the client has online backup or not (No internet service, No, Yes).\n",
        "\n",
        "DeviceProtection: Whether the client has device protection or not (No internet service, No, Yes).\n",
        "\n",
        "TechSupport: Whether the client has tech support or not (No internet service, No, Yes).\n",
        "\n",
        "StreamingTV: Whether the client has streaming TV or not (No internet service, No, Yes).\n",
        "\n",
        "StreamingMovies: Whether the client has streaming movies or not (No internet service, No, Yes)"
      ],
      "metadata": {
        "id": "l0XGgnw_uUnF"
      }
    },
    {
      "cell_type": "markdown",
      "source": [
        "## **2. EDA**"
      ],
      "metadata": {
        "id": "VQlkbLk8uv4b"
      }
    },
    {
      "cell_type": "code",
      "source": [
        "# check for nulls\n",
        "print(df.isnull().sum())"
      ],
      "metadata": {
        "colab": {
          "base_uri": "https://localhost:8080/"
        },
        "id": "dgtJvgP5utMx",
        "outputId": "8cc606e2-7d47-46e5-f3ae-cfb7a5c09770"
      },
      "execution_count": 7,
      "outputs": [
        {
          "output_type": "stream",
          "name": "stdout",
          "text": [
            "gender              0\n",
            "SeniorCitizen       0\n",
            "Partner             0\n",
            "Dependents          0\n",
            "tenure              0\n",
            "PhoneService        0\n",
            "MultipleLines       0\n",
            "InternetService     0\n",
            "OnlineSecurity      0\n",
            "OnlineBackup        0\n",
            "DeviceProtection    0\n",
            "TechSupport         0\n",
            "StreamingTV         0\n",
            "StreamingMovies     0\n",
            "Contract            0\n",
            "PaperlessBilling    0\n",
            "PaymentMethod       0\n",
            "MonthlyCharges      0\n",
            "TotalCharges        0\n",
            "Churn               0\n",
            "dtype: int64\n"
          ]
        }
      ]
    },
    {
      "cell_type": "code",
      "source": [
        "# transform the column TotalCharges into a numeric data type\n",
        "df['TotalCharges'] = pd.to_numeric(df['TotalCharges'], errors='coerce')"
      ],
      "metadata": {
        "id": "qtuVBYRZu-g3"
      },
      "execution_count": 8,
      "outputs": []
    },
    {
      "cell_type": "code",
      "source": [
        "print(df.isnull().sum())"
      ],
      "metadata": {
        "colab": {
          "base_uri": "https://localhost:8080/"
        },
        "id": "AV270wvlveRI",
        "outputId": "52ee3ea7-0dd3-4d43-d717-976f86651427"
      },
      "execution_count": 9,
      "outputs": [
        {
          "output_type": "stream",
          "name": "stdout",
          "text": [
            "gender               0\n",
            "SeniorCitizen        0\n",
            "Partner              0\n",
            "Dependents           0\n",
            "tenure               0\n",
            "PhoneService         0\n",
            "MultipleLines        0\n",
            "InternetService      0\n",
            "OnlineSecurity       0\n",
            "OnlineBackup         0\n",
            "DeviceProtection     0\n",
            "TechSupport          0\n",
            "StreamingTV          0\n",
            "StreamingMovies      0\n",
            "Contract             0\n",
            "PaperlessBilling     0\n",
            "PaymentMethod        0\n",
            "MonthlyCharges       0\n",
            "TotalCharges        11\n",
            "Churn                0\n",
            "dtype: int64\n"
          ]
        }
      ]
    },
    {
      "cell_type": "code",
      "source": [
        "# now that we can see TotalCharges contains 11 nulls\n",
        "df_temp = df[df['TotalCharges'].isnull()]\n",
        "df_temp[df_temp['tenure']==0].shape[0]"
      ],
      "metadata": {
        "id": "B23YwI7jvhPw",
        "colab": {
          "base_uri": "https://localhost:8080/"
        },
        "outputId": "003f4af0-55c7-4cc4-8def-bb3e00ccd923"
      },
      "execution_count": 12,
      "outputs": [
        {
          "output_type": "execute_result",
          "data": {
            "text/plain": [
              "11"
            ]
          },
          "metadata": {},
          "execution_count": 12
        }
      ]
    },
    {
      "cell_type": "markdown",
      "source": [
        "All the 11 records where *TotalCharges* having NaN values have *tenure* = 0 (*tenure* = Number of months the customer has stayed with the company).\n",
        "Therefore, we believe these records are incorrect and need to be removed. "
      ],
      "metadata": {
        "id": "hSVZHwlLv8qu"
      }
    },
    {
      "cell_type": "code",
      "source": [
        "df = df[df['TotalCharges'].notna()]\n",
        "print(\"After removing the false records, the current dataset contains {} rows of customer records\".format(df.shape[0]))"
      ],
      "metadata": {
        "colab": {
          "base_uri": "https://localhost:8080/"
        },
        "id": "LktSDWs4wQIT",
        "outputId": "d66b26de-9c2c-4c66-d476-64d87792f65a"
      },
      "execution_count": 13,
      "outputs": [
        {
          "output_type": "stream",
          "name": "stdout",
          "text": [
            "After removing the false records, the current dataset contains 7032 rows of customer records\n"
          ]
        }
      ]
    },
    {
      "cell_type": "code",
      "source": [
        "# view the statistics of all continuous variables\n",
        "df_numeric = df[['tenure','MonthlyCharges','TotalCharges']]\n",
        "print(df_numeric.describe())"
      ],
      "metadata": {
        "colab": {
          "base_uri": "https://localhost:8080/"
        },
        "id": "VPMGBiIfwplf",
        "outputId": "dee6e595-3108-49e0-9039-ff0e8f5c219d"
      },
      "execution_count": 14,
      "outputs": [
        {
          "output_type": "stream",
          "name": "stdout",
          "text": [
            "            tenure  MonthlyCharges  TotalCharges\n",
            "count  7032.000000     7032.000000   7032.000000\n",
            "mean     32.421786       64.798208   2283.300441\n",
            "std      24.545260       30.085974   2266.771362\n",
            "min       1.000000       18.250000     18.800000\n",
            "25%       9.000000       35.587500    401.450000\n",
            "50%      29.000000       70.350000   1397.475000\n",
            "75%      55.000000       89.862500   3794.737500\n",
            "max      72.000000      118.750000   8684.800000\n"
          ]
        }
      ]
    },
    {
      "cell_type": "code",
      "source": [
        "sns.set_theme(style=\"ticks\")\n",
        "fig = sns.displot(df_numeric[['tenure']], x=\"tenure\", binwidth=12)\n",
        "plt.xlabel(\"Tenure (month)\")\n",
        "plt.title(\"Distribution of Tenure\")\n",
        "plt.show(fig)"
      ],
      "metadata": {
        "colab": {
          "base_uri": "https://localhost:8080/",
          "height": 381
        },
        "id": "44kU82lJyBdc",
        "outputId": "18e2f66e-3476-4571-b610-09dae2cf2e11"
      },
      "execution_count": null,
      "outputs": [
        {
          "output_type": "display_data",
          "data": {
            "text/plain": [
              "<Figure size 360x360 with 1 Axes>"
            ],
            "image/png": "[encoded data removed]"
          },
          "metadata": {}
        }
      ]
    },
    {
      "cell_type": "code",
      "source": [
        "sns.set_theme(style=\"ticks\", palette='Set2')\n",
        "fig = sns.displot(df_numeric[['TotalCharges']], x=\"TotalCharges\", binwidth=100)\n",
        "plt.xlabel(\"Total Charges (in dollar)\")\n",
        "plt.title(\"Distribution of Total Charges\")\n",
        "plt.show(fig)"
      ],
      "metadata": {
        "colab": {
          "base_uri": "https://localhost:8080/",
          "height": 381
        },
        "id": "kU4szy7eyLKh",
        "outputId": "f6ae7058-6d18-40ce-9cd9-eec95caa59fa"
      },
      "execution_count": null,
      "outputs": [
        {
          "output_type": "display_data",
          "data": {
            "text/plain": [
              "<Figure size 360x360 with 1 Axes>"
            ],
            "image/png": "[encoded data removed]"
          },
          "metadata": {}
        }
      ]
    },
    {
      "cell_type": "code",
      "source": [
        "sns.set_theme(style=\"ticks\", palette='flare')\n",
        "fig = sns.displot(df_numeric[['MonthlyCharges']], x=\"MonthlyCharges\", binwidth=10)\n",
        "plt.xlabel(\"Monthly Charges (in dollar)\")\n",
        "plt.title(\"Distribution of Monthly Charges\")\n",
        "plt.show(fig)"
      ],
      "metadata": {
        "colab": {
          "base_uri": "https://localhost:8080/",
          "height": 381
        },
        "id": "9pXTLPxLzL6D",
        "outputId": "5249d876-ce1e-4827-a446-55d74a79a99c"
      },
      "execution_count": null,
      "outputs": [
        {
          "output_type": "display_data",
          "data": {
            "text/plain": [
              "<Figure size 360x360 with 1 Axes>"
            ],
            "image/png": "[encoded data removed]"
          },
          "metadata": {}
        }
      ]
    },
    {
      "cell_type": "code",
      "source": [
        "df['PaymentMethod'].value_counts()\n",
        "labels = ['Electronic Check', 'Mailed Check', 'Bank Transfer (automatic)', 'Credit Card (automatic)']\n",
        "sizes = [2365, 1604, 1542, 1521]\n",
        "explode = (0.1, 0.1, 0.1, 0.1)  \n",
        "fig1, ax1 = plt.subplots()\n",
        "ax1.pie(sizes, explode=explode, labels=labels, autopct='%1.1f%%',\n",
        "        shadow=True, startangle=90)\n",
        "ax1.axis('equal') \n",
        "plt.title(\"Distribution Bar Chart of Payment Method\")\n",
        "plt.show()"
      ],
      "metadata": {
        "colab": {
          "base_uri": "https://localhost:8080/",
          "height": 264
        },
        "id": "MsKfOXi0zc9v",
        "outputId": "d5465eaa-7f81-45c2-bee9-7741fa9eaa79"
      },
      "execution_count": null,
      "outputs": [
        {
          "output_type": "display_data",
          "data": {
            "text/plain": [
              "<Figure size 432x288 with 1 Axes>"
            ],
            "image/png": "[encoded data removed]"
          },
          "metadata": {}
        }
      ]
    },
    {
      "cell_type": "code",
      "source": [
        "print(df['Contract'].value_counts())\n",
        "labels = ['Month-to-month', 'One year', 'Two year']\n",
        "sizes = [3875, 1472, 1685]\n",
        "explode = (0.1, 0.1, 0.1)  \n",
        "fig1, ax1 = plt.subplots()\n",
        "#define Seaborn color palette to use\n",
        "colors = sns.color_palette('pastel')[0:5]\n",
        "ax1.pie(sizes, explode=explode, labels=labels, autopct='%1.1f%%',\n",
        "        shadow=True, startangle=90, colors=colors)\n",
        "ax1.axis('equal') \n",
        "plt.title(\"Distribution Bar Chart of Contract Length\")\n",
        "plt.show()"
      ],
      "metadata": {
        "colab": {
          "base_uri": "https://localhost:8080/",
          "height": 333
        },
        "id": "_NIRbE_10XQA",
        "outputId": "6911681d-7c4a-4dd8-d4c9-b935cbbcf53e"
      },
      "execution_count": null,
      "outputs": [
        {
          "output_type": "stream",
          "name": "stdout",
          "text": [
            "Month-to-month    3875\n",
            "Two year          1685\n",
            "One year          1472\n",
            "Name: Contract, dtype: int64\n"
          ]
        },
        {
          "output_type": "display_data",
          "data": {
            "text/plain": [
              "<Figure size 432x288 with 1 Axes>"
            ],
            "image/png": "[encoded data removed]"
          },
          "metadata": {}
        }
      ]
    },
    {
      "cell_type": "markdown",
      "source": [
        "## **3. Feature Engineering**"
      ],
      "metadata": {
        "id": "K9uWklng1-um"
      }
    },
    {
      "cell_type": "markdown",
      "source": [
        "### Encode Categorical Variables \n",
        "Since the categorical variables do not convey hierarchical information, we choose one-hot encoding over labelEncoder. "
      ],
      "metadata": {
        "id": "cg8_QAGE1R2_"
      }
    },
    {
      "cell_type": "code",
      "source": [
        "df.head(2)\n",
        "sample=df.head(2)"
      ],
      "metadata": {
        "id": "UtELBXBN4bm3"
      },
      "execution_count": 15,
      "outputs": []
    },
    {
      "cell_type": "code",
      "source": [
        "from sklearn.preprocessing import OneHotEncoder\n",
        "df_encoded = pd.get_dummies(df, columns = ['gender', 'Partner','Dependents','PhoneService','MultipleLines','InternetService','OnlineSecurity','OnlineBackup','DeviceProtection','TechSupport','StreamingTV','StreamingMovies','Contract','PaperlessBilling','PaymentMethod'])"
      ],
      "metadata": {
        "id": "JnAD5eRj1Z4Q"
      },
      "execution_count": 16,
      "outputs": []
    },
    {
      "cell_type": "markdown",
      "source": [
        "## **4. Modeling**"
      ],
      "metadata": {
        "id": "kfZz7EYn6fZh"
      }
    },
    {
      "cell_type": "code",
      "source": [
        "from sklearn.model_selection import train_test_split\n",
        "from collections import Counter\n",
        "from imblearn.under_sampling import RandomUnderSampler"
      ],
      "metadata": {
        "id": "GUg4PmzN1p2J"
      },
      "execution_count": 17,
      "outputs": []
    },
    {
      "cell_type": "code",
      "source": [
        "# build the training set\n",
        "X = df_encoded[df_encoded.loc[:, df_encoded.columns!='Churn'].columns]\n",
        "Y = df_encoded['Churn']\n",
        "     \n",
        "X_train, X_test, Y_train, Y_test = train_test_split(X, Y, test_size = 0.1, random_state = 1)\n",
        "print(\"The training dataset contains {} columns and {} rows.\".format(X_train.shape[1], X_train.shape[0]))"
      ],
      "metadata": {
        "colab": {
          "base_uri": "https://localhost:8080/"
        },
        "id": "OkUOeHS_6ebB",
        "outputId": "b02df4f2-9ff5-4dcc-f2a3-bcf64f91c5bf"
      },
      "execution_count": 18,
      "outputs": [
        {
          "output_type": "stream",
          "name": "stdout",
          "text": [
            "The training dataset contains 45 columns and 6328 rows.\n"
          ]
        }
      ]
    },
    {
      "cell_type": "markdown",
      "source": [
        "### 4.0 Simple baseline\n"
      ],
      "metadata": {
        "id": "TDoRR1DstVyF"
      }
    },
    {
      "cell_type": "code",
      "source": [
        "base_pcnt = len(Y_train[Y_train=='No']) / Y_train.shape[0] * 100\n",
        "print(\"The distribution in the train dataset is biased: {:.2f}% are False (did not churn).\\nTherefore, for our machine learning model to be useful, its accuracy needs to be higher than this value.\".format(base_pcnt))"
      ],
      "metadata": {
        "colab": {
          "base_uri": "https://localhost:8080/"
        },
        "id": "3qEM2nnxtgSt",
        "outputId": "beba2198-f44f-465f-8e8f-5439f74bea94"
      },
      "execution_count": 23,
      "outputs": [
        {
          "output_type": "stream",
          "name": "stdout",
          "text": [
            "The distribution in the train dataset is biased: 73.29% are False (did not churn).\n",
            "Therefore, for our machine learning model to be useful, its accuracy needs to be higher than this value.\n"
          ]
        }
      ]
    },
    {
      "cell_type": "markdown",
      "source": [
        "### 4.1 Logistic Regression"
      ],
      "metadata": {
        "id": "K4c4CEER6wPY"
      }
    },
    {
      "cell_type": "markdown",
      "source": [
        "Add gridserachCV\n",
        "\n",
        "Add StandardScaler"
      ],
      "metadata": {
        "id": "GSL2fOkJv4eV"
      }
    },
    {
      "cell_type": "code",
      "source": [
        "from sklearn.linear_model import LogisticRegression\n",
        "\n",
        "# Fit a logistic regression model\n",
        "lr_clf = LogisticRegression(penalty=\"elasticnet\", solver=\"saga\", l1_ratio=0.7, max_iter=100000).fit(X_train, Y_train)\n",
        "\n",
        "print(\"The training accuracy is {}\".format(lr_clf.score(X_train, Y_train)))"
      ],
      "metadata": {
        "colab": {
          "base_uri": "https://localhost:8080/"
        },
        "id": "XvwtrthU6u0f",
        "outputId": "e9f017b0-f2b0-4efb-8455-1ddddac03cba"
      },
      "execution_count": 20,
      "outputs": [
        {
          "output_type": "stream",
          "name": "stdout",
          "text": [
            "The training accuracy is 0.7877686472819216\n"
          ]
        }
      ]
    },
    {
      "cell_type": "code",
      "source": [
        "from sklearn.metrics import classification_report\n",
        "from sklearn.metrics import confusion_matrix\n",
        "\n",
        "y_pred = lr_clf.predict(X_test)\n",
        "\n",
        "# Calculate and plot confusion matrix\n",
        "cf_matrix = confusion_matrix(Y_test, y_pred)\n",
        "\n",
        "print(\"Confusion Matrix\\n\")\n",
        "sns.heatmap(cf_matrix, annot=True, cmap='Blues', fmt='g')\n",
        "plt.xlabel('Predicted', fontsize=12)\n",
        "plt.ylabel('Actual',fontsize=12)\n",
        "plt.show()\n",
        "\n",
        "# Report classification metrics\n",
        "lr_report = classification_report(Y_test, y_pred)\n",
        "\n",
        "print(\"\\nMacro-averaged: all classes equally contribute to the final averaged metric. \\nWeighted-averaged: each classes's contribution to the average is weighted by its size.\")\n",
        "print(\"\\nClassification Metrics\\n\")\n",
        "print(lr_report)"
      ],
      "metadata": {
        "colab": {
          "base_uri": "https://localhost:8080/",
          "height": 577
        },
        "id": "E4kPrrnU7B1g",
        "outputId": "bd93e84b-5c8c-4b21-96d5-10926800e09f"
      },
      "execution_count": 27,
      "outputs": [
        {
          "output_type": "stream",
          "name": "stdout",
          "text": [
            "Confusion Matrix\n",
            "\n"
          ]
        },
        {
          "output_type": "display_data",
          "data": {
            "text/plain": [
              "<Figure size 432x288 with 2 Axes>"
            ],
            "image/png": "[encoded data removed]"
          },
          "metadata": {
            "needs_background": "light"
          }
        },
        {
          "output_type": "stream",
          "name": "stdout",
          "text": [
            "\n",
            "Macro-averaged: all classes equally contribute to the final averaged metric. \n",
            "Weighted-averaged: each classes's contribution to the average is weighted by its size.\n",
            "\n",
            "Classification Metrics\n",
            "\n",
            "              precision    recall  f1-score   support\n",
            "\n",
            "          No       0.84      0.89      0.87       525\n",
            "         Yes       0.61      0.52      0.56       179\n",
            "\n",
            "    accuracy                           0.79       704\n",
            "   macro avg       0.73      0.70      0.71       704\n",
            "weighted avg       0.79      0.79      0.79       704\n",
            "\n"
          ]
        }
      ]
    },
    {
      "cell_type": "markdown",
      "source": [
        "#### 4.1.1 Logistic Regression with Scaling"
      ],
      "metadata": {
        "id": "tIACNygYopJ9"
      }
    },
    {
      "cell_type": "code",
      "source": [
        "from sklearn.preprocessing import StandardScaler\n",
        "\n",
        "# Apply standardization\n",
        "ss = StandardScaler().fit(X_train)\n",
        "X_train_ss = ss.transform(X_train)\n",
        "X_test_ss = ss.transform(X_test)"
      ],
      "metadata": {
        "id": "5ZKemwguo1BB"
      },
      "execution_count": 28,
      "outputs": []
    },
    {
      "cell_type": "code",
      "source": [
        "lr_ss = LogisticRegression(penalty=\"elasticnet\", solver=\"saga\", l1_ratio=0.7, max_iter=100000).fit(X_train_ss, Y_train)\n",
        "\n",
        "print(\"The training accuracy is {}\".format(lr_clf.score(X_train_ss, Y_train)))"
      ],
      "metadata": {
        "colab": {
          "base_uri": "https://localhost:8080/"
        },
        "id": "fuvOb3qmpErY",
        "outputId": "b2269121-5a86-4a06-d511-5f990b0213e4"
      },
      "execution_count": 29,
      "outputs": [
        {
          "output_type": "stream",
          "name": "stdout",
          "text": [
            "The training accuracy is 0.7003792667509482\n"
          ]
        }
      ]
    },
    {
      "cell_type": "code",
      "source": [
        "y_pred_ss = lr_clf.predict(X_test_ss)\n",
        "\n",
        "# Calculate and plot confusion matrix\n",
        "cf_matrix = confusion_matrix(Y_test, y_pred_ss)\n",
        "\n",
        "print(\"Confusion Matrix\\n\")\n",
        "sns.heatmap(cf_matrix, annot=True, cmap='Blues', fmt='g')\n",
        "plt.xlabel('Predicted', fontsize=12)\n",
        "plt.ylabel('Actual',fontsize=12)\n",
        "plt.show()\n",
        "\n",
        "# Report classification metrics\n",
        "lr_report_ss = classification_report(Y_test, y_pred_ss)\n",
        "\n",
        "print(\"\\nClassification Metrics\\n\")\n",
        "print(lr_report_ss)"
      ],
      "metadata": {
        "colab": {
          "base_uri": "https://localhost:8080/",
          "height": 525
        },
        "id": "F9o3OXmOpy4p",
        "outputId": "ae7ea22d-b0e8-49e7-e976-c159216a3f68"
      },
      "execution_count": 26,
      "outputs": [
        {
          "output_type": "stream",
          "name": "stdout",
          "text": [
            "Confusion Matrix\n",
            "\n"
          ]
        },
        {
          "output_type": "display_data",
          "data": {
            "text/plain": [
              "<Figure size 432x288 with 2 Axes>"
            ],
            "image/png": "[encoded data removed]"
          },
          "metadata": {
            "needs_background": "light"
          }
        },
        {
          "output_type": "stream",
          "name": "stdout",
          "text": [
            "\n",
            "Classification Metrics\n",
            "\n",
            "              precision    recall  f1-score   support\n",
            "\n",
            "          No       0.92      0.66      0.77       525\n",
            "         Yes       0.45      0.84      0.59       179\n",
            "\n",
            "    accuracy                           0.70       704\n",
            "   macro avg       0.69      0.75      0.68       704\n",
            "weighted avg       0.81      0.70      0.72       704\n",
            "\n"
          ]
        }
      ]
    },
    {
      "cell_type": "markdown",
      "source": [
        "#### 4.1.2 Logistic Regression with PCA"
      ],
      "metadata": {
        "id": "BnxhUTBP7I4N"
      }
    },
    {
      "cell_type": "code",
      "source": [
        "from sklearn.decomposition import PCA\n",
        "\n",
        "# Apply PCA\n",
        "pca = PCA().fit(X_train_ss)\n",
        "x_train_pca = pca.transform(X_train_ss)\n",
        "x_test_pca = pca.transform(X_test_ss)\n",
        "\n",
        "#Print explained variances in percentage\n",
        "print(\"Explained variances in percentage:\")\n",
        "print(np.cumsum(pca.explained_variance_ratio_*100))\n",
        "print()\n",
        "\n",
        "# Plot cumulative explained\n",
        "plt.plot(np.cumsum(pca.explained_variance_ratio_*100))\n",
        "plt.xlabel(\"Number of components\")\n",
        "plt.ylabel(\"Explained variance (%)\")\n",
        "plt.show()"
      ],
      "metadata": {
        "colab": {
          "base_uri": "https://localhost:8080/",
          "height": 470
        },
        "id": "Z9TMs4_I7IZe",
        "outputId": "19e76293-4690-47d8-c889-0a5eb152034a"
      },
      "execution_count": 30,
      "outputs": [
        {
          "output_type": "stream",
          "name": "stdout",
          "text": [
            "Explained variances in percentage:\n",
            "[ 25.24655293  38.86786167  48.29281587  53.93114883  58.91022868\n",
            "  63.35450256  67.0784524   70.52596559  73.54167842  76.4270465\n",
            "  79.2501282   81.92066228  84.50431579  87.01935569  89.37320572\n",
            "  91.53945905  93.57596003  95.5168756   97.35716575  99.05548916\n",
            "  99.86771823  99.99786781 100.         100.         100.\n",
            " 100.         100.         100.         100.         100.\n",
            " 100.         100.         100.         100.         100.\n",
            " 100.         100.         100.         100.         100.\n",
            " 100.         100.         100.         100.         100.        ]\n",
            "\n"
          ]
        },
        {
          "output_type": "display_data",
          "data": {
            "text/plain": [
              "<Figure size 432x288 with 1 Axes>"
            ],
            "image/png": "[encoded data removed]"
          },
          "metadata": {
            "needs_background": "light"
          }
        }
      ]
    },
    {
      "cell_type": "code",
      "source": [
        "# Rerun PCA with 20 components\n",
        "pca = PCA(n_components=20).fit(X_train_ss)\n",
        "x_train_pca = pca.transform(X_train_ss)\n",
        "x_test_pca = pca.transform(X_test_ss)"
      ],
      "metadata": {
        "id": "oCwi76k27TDv"
      },
      "execution_count": 31,
      "outputs": []
    },
    {
      "cell_type": "code",
      "source": [
        "# Fit a logistic regression model\n",
        "lr_clf_pca = LogisticRegression(penalty=\"elasticnet\", solver=\"saga\", l1_ratio=0.7, max_iter=100000).fit(x_train_pca, Y_train)\n",
        "\n",
        "print(\"The training accuracy is {}\".format(lr_clf_pca.score(x_train_pca, Y_train)))"
      ],
      "metadata": {
        "colab": {
          "base_uri": "https://localhost:8080/"
        },
        "id": "2WFFHWoA7X7N",
        "outputId": "45a2b5e0-ff81-43e0-ad9d-d6efef8a46ad"
      },
      "execution_count": 32,
      "outputs": [
        {
          "output_type": "stream",
          "name": "stdout",
          "text": [
            "The training accuracy is 0.8038874841972187\n"
          ]
        }
      ]
    },
    {
      "cell_type": "code",
      "source": [
        "y_pred_pca = lr_clf_pca.predict(x_test_pca)\n",
        "\n",
        "# Calculate and plot confusion matrix\n",
        "cf_matrix = confusion_matrix(Y_test, y_pred_pca)\n",
        "\n",
        "print(\"Confusion Matrix\\n\")\n",
        "sns.heatmap(cf_matrix, annot=True, cmap='Blues', fmt='g')\n",
        "plt.xlabel('Predicted', fontsize=12)\n",
        "plt.ylabel('Actual',fontsize=12)\n",
        "plt.show()\n",
        "\n",
        "# Report classification metrics\n",
        "lr_pca_report = classification_report(Y_test, y_pred_pca)\n",
        "\n",
        "print(\"\\nClassification Metrics\\n\")\n",
        "print(lr_pca_report)"
      ],
      "metadata": {
        "colab": {
          "base_uri": "https://localhost:8080/",
          "height": 525
        },
        "id": "R3LgePA27bDe",
        "outputId": "949c616d-b979-41b9-c105-e0c07b57ddf8"
      },
      "execution_count": 33,
      "outputs": [
        {
          "output_type": "stream",
          "name": "stdout",
          "text": [
            "Confusion Matrix\n",
            "\n"
          ]
        },
        {
          "output_type": "display_data",
          "data": {
            "text/plain": [
              "<Figure size 432x288 with 2 Axes>"
            ],
            "image/png": "[encoded data removed]"
          },
          "metadata": {
            "needs_background": "light"
          }
        },
        {
          "output_type": "stream",
          "name": "stdout",
          "text": [
            "\n",
            "Classification Metrics\n",
            "\n",
            "              precision    recall  f1-score   support\n",
            "\n",
            "          No       0.85      0.87      0.86       525\n",
            "         Yes       0.59      0.54      0.57       179\n",
            "\n",
            "    accuracy                           0.79       704\n",
            "   macro avg       0.72      0.71      0.71       704\n",
            "weighted avg       0.78      0.79      0.79       704\n",
            "\n"
          ]
        }
      ]
    },
    {
      "cell_type": "markdown",
      "source": [
        "After using PCA, the accuracy score didn't improve much. Also, we notice that the model did poorly on false negative rate (the model often predicted a customer would not churn, but the customer in fact churned). "
      ],
      "metadata": {
        "id": "9SBvHqRz8BNJ"
      }
    },
    {
      "cell_type": "markdown",
      "source": [
        "#### 4.2 Artificial Neural Network\n",
        "(the hypothesis is that NN would NOT work well since the dataset is relatively small)"
      ],
      "metadata": {
        "id": "IbpdHdhz8lbH"
      }
    },
    {
      "cell_type": "code",
      "source": [
        "from sklearn.neural_network import MLPClassifier\n",
        "from sklearn.model_selection import GridSearchCV\n",
        "\n",
        "# Define parameters and use grid search cross validation to find \n",
        "# the best set of paramter for artificial nueral network\n",
        "params = {\n",
        "    \"hidden_layer_sizes\": [(64, 32, 16), (128, 64, 32), (256, 128, 64)],\n",
        "    \"activation\": [\"logistic\", \"tanh\", \"relu\"]\n",
        "}\n",
        "mlp_gs = GridSearchCV(estimator=MLPClassifier(max_iter=10000), param_grid=params, n_jobs=-1, cv=3).fit(X_train_ss, Y_train)\n",
        "\n",
        "print(\"The best parameters are {}\".format(mlp_gs.best_params_))\n",
        "print(\"The training accuracy of the best parameters is {}\".format(mlp_gs.best_score_))"
      ],
      "metadata": {
        "colab": {
          "base_uri": "https://localhost:8080/"
        },
        "id": "RoREFnzL72Pl",
        "outputId": "43fefec8-b822-4e28-9b60-e085d26b5935"
      },
      "execution_count": 38,
      "outputs": [
        {
          "output_type": "stream",
          "name": "stdout",
          "text": [
            "The best parameters are {'activation': 'logistic', 'hidden_layer_sizes': (256, 128, 64)}\n",
            "The training accuracy of the best parameters is 0.7866598951158692\n"
          ]
        }
      ]
    },
    {
      "cell_type": "code",
      "source": [
        "from sklearn.metrics import classification_report\n",
        "\n",
        "y_pred = mlp_gs.best_estimator_.predict(X_test_ss)\n",
        "\n",
        "# Calculate and plot confusion matrix\n",
        "mlp_matrix = confusion_matrix(Y_test, y_pred)\n",
        "\n",
        "print(\"Confusion Matrix\\n\")\n",
        "sns.heatmap(mlp_matrix, annot=True, cmap='Blues', fmt='g')\n",
        "plt.xlabel('Predicted', fontsize=12)\n",
        "plt.ylabel('Actual',fontsize=12)\n",
        "plt.show()\n",
        "\n",
        "# Report classification metrics\n",
        "mlp_report = classification_report(Y_test, y_pred)\n",
        "\n",
        "print(\"\\nClassification Metrics\\n\")\n",
        "print(mlp_report)"
      ],
      "metadata": {
        "colab": {
          "base_uri": "https://localhost:8080/",
          "height": 525
        },
        "id": "hGyQKQOF8wpG",
        "outputId": "72eba943-531d-46d3-c2bb-e53092f15df5"
      },
      "execution_count": 39,
      "outputs": [
        {
          "output_type": "stream",
          "name": "stdout",
          "text": [
            "Confusion Matrix\n",
            "\n"
          ]
        },
        {
          "output_type": "display_data",
          "data": {
            "text/plain": [
              "<Figure size 432x288 with 2 Axes>"
            ],
            "image/png": "[encoded data removed]"
          },
          "metadata": {
            "needs_background": "light"
          }
        },
        {
          "output_type": "stream",
          "name": "stdout",
          "text": [
            "\n",
            "Classification Metrics\n",
            "\n",
            "              precision    recall  f1-score   support\n",
            "\n",
            "          No       0.83      0.80      0.82       525\n",
            "         Yes       0.48      0.53      0.50       179\n",
            "\n",
            "    accuracy                           0.73       704\n",
            "   macro avg       0.65      0.66      0.66       704\n",
            "weighted avg       0.74      0.73      0.74       704\n",
            "\n"
          ]
        }
      ]
    },
    {
      "cell_type": "markdown",
      "source": [
        "#### 4.3 Random Forest"
      ],
      "metadata": {
        "id": "QWgipKwR9TMm"
      }
    },
    {
      "cell_type": "code",
      "source": [
        "from sklearn.ensemble import RandomForestClassifier\n",
        "from sklearn.model_selection import GridSearchCV\n",
        "\n",
        "# Define parameters and use grid search cross validation to find \n",
        "# the best set of paramter for random forest classifier\n",
        "params = {\n",
        "    \"n_estimators\": [50, 100, 200],\n",
        "    \"max_depth\": [80, 160, 320]\n",
        "}\n",
        "rf_gs = GridSearchCV(estimator=RandomForestClassifier(), param_grid=params, n_jobs=-1, cv=3).fit(X_train, Y_train)\n",
        "\n",
        "print(\"The best parameters are {}\".format(rf_gs.best_params_))\n",
        "print(\"The training accuracy of the best parameters is {}\".format(rf_gs.best_score_))"
      ],
      "metadata": {
        "colab": {
          "base_uri": "https://localhost:8080/"
        },
        "id": "vjSTjZ_49VDS",
        "outputId": "6e9bd76b-eb20-413b-d67c-234bc4577e42"
      },
      "execution_count": null,
      "outputs": [
        {
          "output_type": "stream",
          "name": "stdout",
          "text": [
            "The best parameters are {'max_depth': 160, 'n_estimators': 200}\n",
            "The training accuracy of the best parameters is 0.7893506127729126\n"
          ]
        }
      ]
    },
    {
      "cell_type": "code",
      "source": [
        "from sklearn.metrics import classification_report\n",
        "\n",
        "y_pred = rf_gs.best_estimator_.predict(X_test)\n",
        "\n",
        "# Calculate and plot confusion matrix\n",
        "rf_matrix = confusion_matrix(Y_test, y_pred)\n",
        "\n",
        "print(\"Confusion Matrix\\n\")\n",
        "sns.heatmap(rf_matrix, annot=True, cmap='Blues', fmt='g')\n",
        "plt.xlabel('Predicted', fontsize=12)\n",
        "plt.ylabel('Actual',fontsize=12)\n",
        "plt.show()\n",
        "\n",
        "# Report classification metrics\n",
        "rf_report = classification_report(Y_test, y_pred)\n",
        "\n",
        "print(\"\\nClassification Metrics\\n\")\n",
        "print(rf_report)"
      ],
      "metadata": {
        "colab": {
          "base_uri": "https://localhost:8080/",
          "height": 528
        },
        "id": "SbtYevTd9gCs",
        "outputId": "54fa966b-9177-4e85-83a7-01df7380e2b2"
      },
      "execution_count": null,
      "outputs": [
        {
          "output_type": "stream",
          "name": "stdout",
          "text": [
            "Confusion Matrix\n",
            "\n"
          ]
        },
        {
          "output_type": "display_data",
          "data": {
            "text/plain": [
              "<Figure size 432x288 with 2 Axes>"
            ],
            "image/png": "[encoded data removed]"
          },
          "metadata": {}
        },
        {
          "output_type": "stream",
          "name": "stdout",
          "text": [
            "\n",
            "Classification Metrics\n",
            "\n",
            "              precision    recall  f1-score   support\n",
            "\n",
            "          No       0.83      0.90      0.87       525\n",
            "         Yes       0.62      0.47      0.54       179\n",
            "\n",
            "    accuracy                           0.79       704\n",
            "   macro avg       0.73      0.69      0.70       704\n",
            "weighted avg       0.78      0.79      0.78       704\n",
            "\n"
          ]
        }
      ]
    },
    {
      "cell_type": "markdown",
      "source": [
        "#### 4.4 XG Boost"
      ],
      "metadata": {
        "id": "PacgvaFfzhbK"
      }
    },
    {
      "cell_type": "code",
      "source": [
        "## WITHOUT GridSearchCV\n",
        "import xgboost as xgb\n",
        "from sklearn.metrics import accuracy_score\n",
        "\n",
        "xgb_cl = xgb.XGBClassifier()\n",
        "\n",
        "# Fit\n",
        "xgb_cl.fit(X_train, Y_train)\n",
        "\n",
        "# Predict\n",
        "preds = xgb_cl.predict(X_test)\n",
        "\n",
        "# Score\n",
        "print(\"The test accuracy is {}\".format(accuracy_score(Y_test, preds)))"
      ],
      "metadata": {
        "id": "8H2iybl-z5bE",
        "colab": {
          "base_uri": "https://localhost:8080/"
        },
        "outputId": "3adba469-fed4-4933-f863-a8f4be25ce17"
      },
      "execution_count": 36,
      "outputs": [
        {
          "output_type": "stream",
          "name": "stdout",
          "text": [
            "The test accuracy is 0.7954545454545454\n"
          ]
        }
      ]
    },
    {
      "cell_type": "code",
      "source": [
        "# Calculate and plot confusion matrix\n",
        "xgb_matrix = confusion_matrix(Y_test, preds)\n",
        "\n",
        "print(\"Confusion Matrix\\n\")\n",
        "sns.heatmap(xgb_matrix, annot=True, cmap='Blues', fmt='g')\n",
        "plt.xlabel('Predicted', fontsize=12)\n",
        "plt.ylabel('Actual',fontsize=12)\n",
        "plt.show()\n",
        "\n",
        "# Report classification metrics\n",
        "xgb_report = classification_report(Y_test, preds)\n",
        "\n",
        "print(\"\\nClassification Metrics\\n\")\n",
        "print(xgb_report)"
      ],
      "metadata": {
        "colab": {
          "base_uri": "https://localhost:8080/",
          "height": 525
        },
        "id": "hHhZ8IBXrG7x",
        "outputId": "83754dc4-1796-4190-9683-90bdbbe56942"
      },
      "execution_count": 37,
      "outputs": [
        {
          "output_type": "stream",
          "name": "stdout",
          "text": [
            "Confusion Matrix\n",
            "\n"
          ]
        },
        {
          "output_type": "display_data",
          "data": {
            "text/plain": [
              "<Figure size 432x288 with 2 Axes>"
            ],
            "image/png": "[encoded data removed]"
          },
          "metadata": {
            "needs_background": "light"
          }
        },
        {
          "output_type": "stream",
          "name": "stdout",
          "text": [
            "\n",
            "Classification Metrics\n",
            "\n",
            "              precision    recall  f1-score   support\n",
            "\n",
            "          No       0.84      0.90      0.87       525\n",
            "         Yes       0.63      0.49      0.55       179\n",
            "\n",
            "    accuracy                           0.80       704\n",
            "   macro avg       0.73      0.69      0.71       704\n",
            "weighted avg       0.78      0.80      0.79       704\n",
            "\n"
          ]
        }
      ]
    },
    {
      "cell_type": "code",
      "source": [
        "## WITH GridSearchCV\n",
        "param_grid = {\n",
        "    \"max_depth\": [3, 4, 5, 7],\n",
        "    \"learning_rate\": [0.1, 0.01, 0.05],\n",
        "    \"gamma\": [0, 0.25, 1],\n",
        "    \"reg_lambda\": [0, 1, 10],\n",
        "    \"scale_pos_weight\": [1, 3, 5],\n",
        "    \"subsample\": [0.8],\n",
        "    \"colsample_bytree\": [0.5],\n",
        "}\n",
        "\n",
        "# Init classifier\n",
        "xgb_cl = xgb.XGBClassifier(objective=\"binary:logistic\")\n",
        "\n",
        "# Init Grid Search\n",
        "grid_cv = GridSearchCV(xgb_cl, param_grid, n_jobs=-1, cv=3, scoring=\"roc_auc\")\n",
        "\n",
        "# Fit\n",
        "xgb_fit = grid_cv.fit(X_train, Y_train)\n",
        "\n",
        "# best score\n",
        "print(\"The training accuracy of the best parameters is {}\".format(grid_cv.best_score_))"
      ],
      "metadata": {
        "colab": {
          "base_uri": "https://localhost:8080/"
        },
        "id": "0kerU9u0tmMh",
        "outputId": "a34eb1a4-ee26-44cf-80b3-b6f3af58ec2e"
      },
      "execution_count": 40,
      "outputs": [
        {
          "output_type": "stream",
          "name": "stdout",
          "text": [
            "The training accuracy of the best parameters is 0.8494671861534804\n"
          ]
        }
      ]
    },
    {
      "cell_type": "code",
      "source": [
        "y_pred = grid_cv.best_estimator_.predict(X_test)\n",
        "\n",
        "# Calculate and plot confusion matrix\n",
        "xgb2_matrix = confusion_matrix(Y_test, y_pred)\n",
        "\n",
        "print(\"Confusion Matrix\\n\")\n",
        "sns.heatmap(xgb2_matrix, annot=True, cmap='Blues', fmt='g')\n",
        "plt.xlabel('Predicted', fontsize=12)\n",
        "plt.ylabel('Actual',fontsize=12)\n",
        "plt.show()\n",
        "\n",
        "# Report classification metrics\n",
        "xgb2_report = classification_report(Y_test, y_pred)\n",
        "\n",
        "print(\"\\nClassification Metrics\\n\")\n",
        "print(xgb2_report)"
      ],
      "metadata": {
        "colab": {
          "base_uri": "https://localhost:8080/",
          "height": 525
        },
        "id": "jssuMVMFuu8A",
        "outputId": "43ab797a-762f-4e86-e2fe-519b5d261b27"
      },
      "execution_count": 41,
      "outputs": [
        {
          "output_type": "stream",
          "name": "stdout",
          "text": [
            "Confusion Matrix\n",
            "\n"
          ]
        },
        {
          "output_type": "display_data",
          "data": {
            "text/plain": [
              "<Figure size 432x288 with 2 Axes>"
            ],
            "image/png": "[encoded data removed]"
          },
          "metadata": {
            "needs_background": "light"
          }
        },
        {
          "output_type": "stream",
          "name": "stdout",
          "text": [
            "\n",
            "Classification Metrics\n",
            "\n",
            "              precision    recall  f1-score   support\n",
            "\n",
            "          No       0.83      0.90      0.87       525\n",
            "         Yes       0.62      0.47      0.54       179\n",
            "\n",
            "    accuracy                           0.79       704\n",
            "   macro avg       0.73      0.69      0.70       704\n",
            "weighted avg       0.78      0.79      0.78       704\n",
            "\n"
          ]
        }
      ]
    },
    {
      "cell_type": "markdown",
      "source": [
        "## **5. Discussion**\n",
        "As both bagging and boosting have been utilized in this project to improve model accuracy, which ensemble method is more helpful?\n"
      ],
      "metadata": {
        "id": "rxpAPDZG0RuP"
      }
    }
  ]
}
